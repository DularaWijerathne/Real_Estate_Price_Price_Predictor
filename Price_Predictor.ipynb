{
 "cells": [
  {
   "cell_type": "code",
   "execution_count": 4,
   "id": "1e2a2064",
   "metadata": {},
   "outputs": [],
   "source": [
    "import pandas as pd\n",
    "import numpy as np\n",
    "\n",
    "from matplotlib import pyplot as plt\n",
    "import seaborn as sns\n",
    "\n",
    "from sklearn.model_selection import train_test_split\n",
    "from sklearn.preprocessing import StandardScaler\n",
    "from sklearn.linear_model import LinearRegression\n",
    "from sklearn.ensemble import RandomForestRegressor\n",
    "from sklearn.metrics import mean_absolute_error, mean_squared_error, r2_score\n"
   ]
  },
  {
   "cell_type": "code",
   "execution_count": 5,
   "id": "d130d830",
   "metadata": {},
   "outputs": [
    {
     "data": {
      "text/html": [
       "<div>\n",
       "<style scoped>\n",
       "    .dataframe tbody tr th:only-of-type {\n",
       "        vertical-align: middle;\n",
       "    }\n",
       "\n",
       "    .dataframe tbody tr th {\n",
       "        vertical-align: top;\n",
       "    }\n",
       "\n",
       "    .dataframe thead th {\n",
       "        text-align: right;\n",
       "    }\n",
       "</style>\n",
       "<table border=\"1\" class=\"dataframe\">\n",
       "  <thead>\n",
       "    <tr style=\"text-align: right;\">\n",
       "      <th></th>\n",
       "      <th>Brand</th>\n",
       "      <th>Year</th>\n",
       "      <th>Model</th>\n",
       "      <th>Car/Suv</th>\n",
       "      <th>Title</th>\n",
       "      <th>UsedOrNew</th>\n",
       "      <th>Transmission</th>\n",
       "      <th>Engine</th>\n",
       "      <th>DriveType</th>\n",
       "      <th>FuelType</th>\n",
       "      <th>FuelConsumption</th>\n",
       "      <th>Kilometres</th>\n",
       "      <th>ColourExtInt</th>\n",
       "      <th>Location</th>\n",
       "      <th>CylindersinEngine</th>\n",
       "      <th>BodyType</th>\n",
       "      <th>Doors</th>\n",
       "      <th>Seats</th>\n",
       "      <th>Price</th>\n",
       "    </tr>\n",
       "  </thead>\n",
       "  <tbody>\n",
       "    <tr>\n",
       "      <th>0</th>\n",
       "      <td>Ssangyong</td>\n",
       "      <td>2022.0</td>\n",
       "      <td>Rexton</td>\n",
       "      <td>Sutherland Isuzu Ute</td>\n",
       "      <td>2022 Ssangyong Rexton Ultimate (awd)</td>\n",
       "      <td>DEMO</td>\n",
       "      <td>Automatic</td>\n",
       "      <td>4 cyl, 2.2 L</td>\n",
       "      <td>AWD</td>\n",
       "      <td>Diesel</td>\n",
       "      <td>8.7 L / 100 km</td>\n",
       "      <td>5595</td>\n",
       "      <td>White / Black</td>\n",
       "      <td>Caringbah, NSW</td>\n",
       "      <td>4 cyl</td>\n",
       "      <td>SUV</td>\n",
       "      <td>4 Doors</td>\n",
       "      <td>7 Seats</td>\n",
       "      <td>51990</td>\n",
       "    </tr>\n",
       "    <tr>\n",
       "      <th>1</th>\n",
       "      <td>MG</td>\n",
       "      <td>2022.0</td>\n",
       "      <td>MG3</td>\n",
       "      <td>Hatchback</td>\n",
       "      <td>2022 MG MG3 Auto Excite (with Navigation)</td>\n",
       "      <td>USED</td>\n",
       "      <td>Automatic</td>\n",
       "      <td>4 cyl, 1.5 L</td>\n",
       "      <td>Front</td>\n",
       "      <td>Premium</td>\n",
       "      <td>6.7 L / 100 km</td>\n",
       "      <td>16</td>\n",
       "      <td>Black / Black</td>\n",
       "      <td>Brookvale, NSW</td>\n",
       "      <td>4 cyl</td>\n",
       "      <td>Hatchback</td>\n",
       "      <td>5 Doors</td>\n",
       "      <td>5 Seats</td>\n",
       "      <td>19990</td>\n",
       "    </tr>\n",
       "    <tr>\n",
       "      <th>2</th>\n",
       "      <td>BMW</td>\n",
       "      <td>2022.0</td>\n",
       "      <td>430I</td>\n",
       "      <td>Coupe</td>\n",
       "      <td>2022 BMW 430I M Sport</td>\n",
       "      <td>USED</td>\n",
       "      <td>Automatic</td>\n",
       "      <td>4 cyl, 2 L</td>\n",
       "      <td>Rear</td>\n",
       "      <td>Premium</td>\n",
       "      <td>6.6 L / 100 km</td>\n",
       "      <td>8472</td>\n",
       "      <td>Grey / White</td>\n",
       "      <td>Sylvania, NSW</td>\n",
       "      <td>4 cyl</td>\n",
       "      <td>Coupe</td>\n",
       "      <td>2 Doors</td>\n",
       "      <td>4 Seats</td>\n",
       "      <td>108988</td>\n",
       "    </tr>\n",
       "    <tr>\n",
       "      <th>3</th>\n",
       "      <td>Mercedes-Benz</td>\n",
       "      <td>2011.0</td>\n",
       "      <td>E500</td>\n",
       "      <td>Coupe</td>\n",
       "      <td>2011 Mercedes-Benz E500 Elegance</td>\n",
       "      <td>USED</td>\n",
       "      <td>Automatic</td>\n",
       "      <td>8 cyl, 5.5 L</td>\n",
       "      <td>Rear</td>\n",
       "      <td>Premium</td>\n",
       "      <td>11 L / 100 km</td>\n",
       "      <td>136517</td>\n",
       "      <td>White / Brown</td>\n",
       "      <td>Mount Druitt, NSW</td>\n",
       "      <td>8 cyl</td>\n",
       "      <td>Coupe</td>\n",
       "      <td>2 Doors</td>\n",
       "      <td>4 Seats</td>\n",
       "      <td>32990</td>\n",
       "    </tr>\n",
       "    <tr>\n",
       "      <th>4</th>\n",
       "      <td>Renault</td>\n",
       "      <td>2022.0</td>\n",
       "      <td>Arkana</td>\n",
       "      <td>SUV</td>\n",
       "      <td>2022 Renault Arkana Intens</td>\n",
       "      <td>USED</td>\n",
       "      <td>Automatic</td>\n",
       "      <td>4 cyl, 1.3 L</td>\n",
       "      <td>Front</td>\n",
       "      <td>Unleaded</td>\n",
       "      <td>6 L / 100 km</td>\n",
       "      <td>1035</td>\n",
       "      <td>Grey / Black</td>\n",
       "      <td>Castle Hill, NSW</td>\n",
       "      <td>4 cyl</td>\n",
       "      <td>SUV</td>\n",
       "      <td>4 Doors</td>\n",
       "      <td>5 Seats</td>\n",
       "      <td>34990</td>\n",
       "    </tr>\n",
       "  </tbody>\n",
       "</table>\n",
       "</div>"
      ],
      "text/plain": [
       "           Brand    Year   Model               Car/Suv  \\\n",
       "0      Ssangyong  2022.0  Rexton  Sutherland Isuzu Ute   \n",
       "1             MG  2022.0     MG3             Hatchback   \n",
       "2            BMW  2022.0    430I                 Coupe   \n",
       "3  Mercedes-Benz  2011.0    E500                 Coupe   \n",
       "4        Renault  2022.0  Arkana                   SUV   \n",
       "\n",
       "                                       Title UsedOrNew Transmission  \\\n",
       "0       2022 Ssangyong Rexton Ultimate (awd)      DEMO    Automatic   \n",
       "1  2022 MG MG3 Auto Excite (with Navigation)      USED    Automatic   \n",
       "2                      2022 BMW 430I M Sport      USED    Automatic   \n",
       "3           2011 Mercedes-Benz E500 Elegance      USED    Automatic   \n",
       "4                 2022 Renault Arkana Intens      USED    Automatic   \n",
       "\n",
       "         Engine DriveType  FuelType FuelConsumption Kilometres   ColourExtInt  \\\n",
       "0  4 cyl, 2.2 L       AWD    Diesel  8.7 L / 100 km       5595  White / Black   \n",
       "1  4 cyl, 1.5 L     Front   Premium  6.7 L / 100 km         16  Black / Black   \n",
       "2    4 cyl, 2 L      Rear   Premium  6.6 L / 100 km       8472   Grey / White   \n",
       "3  8 cyl, 5.5 L      Rear   Premium   11 L / 100 km     136517  White / Brown   \n",
       "4  4 cyl, 1.3 L     Front  Unleaded    6 L / 100 km       1035   Grey / Black   \n",
       "\n",
       "            Location CylindersinEngine   BodyType     Doors     Seats   Price  \n",
       "0     Caringbah, NSW             4 cyl        SUV   4 Doors   7 Seats   51990  \n",
       "1     Brookvale, NSW             4 cyl  Hatchback   5 Doors   5 Seats   19990  \n",
       "2      Sylvania, NSW             4 cyl      Coupe   2 Doors   4 Seats  108988  \n",
       "3  Mount Druitt, NSW             8 cyl      Coupe   2 Doors   4 Seats   32990  \n",
       "4   Castle Hill, NSW             4 cyl        SUV   4 Doors   5 Seats   34990  "
      ]
     },
     "execution_count": 5,
     "metadata": {},
     "output_type": "execute_result"
    }
   ],
   "source": [
    "df1 = pd.read_csv(\"data_set/Australian Vehicle Prices.csv\")\n",
    "df1.head()"
   ]
  },
  {
   "cell_type": "code",
   "execution_count": 6,
   "id": "a361db6f",
   "metadata": {},
   "outputs": [
    {
     "name": "stdout",
     "output_type": "stream",
     "text": [
      "<class 'pandas.core.frame.DataFrame'>\n",
      "RangeIndex: 16734 entries, 0 to 16733\n",
      "Data columns (total 19 columns):\n",
      " #   Column             Non-Null Count  Dtype  \n",
      "---  ------             --------------  -----  \n",
      " 0   Brand              16733 non-null  object \n",
      " 1   Year               16733 non-null  float64\n",
      " 2   Model              16733 non-null  object \n",
      " 3   Car/Suv            16706 non-null  object \n",
      " 4   Title              16733 non-null  object \n",
      " 5   UsedOrNew          16733 non-null  object \n",
      " 6   Transmission       16733 non-null  object \n",
      " 7   Engine             16733 non-null  object \n",
      " 8   DriveType          16733 non-null  object \n",
      " 9   FuelType           16733 non-null  object \n",
      " 10  FuelConsumption    16733 non-null  object \n",
      " 11  Kilometres         16733 non-null  object \n",
      " 12  ColourExtInt       16733 non-null  object \n",
      " 13  Location           16284 non-null  object \n",
      " 14  CylindersinEngine  16733 non-null  object \n",
      " 15  BodyType           16452 non-null  object \n",
      " 16  Doors              15130 non-null  object \n",
      " 17  Seats              15029 non-null  object \n",
      " 18  Price              16731 non-null  object \n",
      "dtypes: float64(1), object(18)\n",
      "memory usage: 2.4+ MB\n"
     ]
    }
   ],
   "source": [
    "df1.info()"
   ]
  },
  {
   "cell_type": "markdown",
   "id": "65535bbe",
   "metadata": {},
   "source": [
    "## Feature Preparation"
   ]
  },
  {
   "cell_type": "markdown",
   "id": "351cdad3",
   "metadata": {},
   "source": [
    "#### Defining EngineCapacity Feature"
   ]
  },
  {
   "cell_type": "code",
   "execution_count": 7,
   "id": "1fdc3913",
   "metadata": {},
   "outputs": [],
   "source": [
    "def get_engine_capacity(x):\n",
    "    try:\n",
    "        tokens = x.split(' ')\n",
    "        return float(tokens[2])*1000\n",
    "    except:\n",
    "        return ''"
   ]
  },
  {
   "cell_type": "code",
   "execution_count": 8,
   "id": "c9a7b649",
   "metadata": {},
   "outputs": [
    {
     "data": {
      "text/html": [
       "<div>\n",
       "<style scoped>\n",
       "    .dataframe tbody tr th:only-of-type {\n",
       "        vertical-align: middle;\n",
       "    }\n",
       "\n",
       "    .dataframe tbody tr th {\n",
       "        vertical-align: top;\n",
       "    }\n",
       "\n",
       "    .dataframe thead th {\n",
       "        text-align: right;\n",
       "    }\n",
       "</style>\n",
       "<table border=\"1\" class=\"dataframe\">\n",
       "  <thead>\n",
       "    <tr style=\"text-align: right;\">\n",
       "      <th></th>\n",
       "      <th>Brand</th>\n",
       "      <th>Year</th>\n",
       "      <th>Model</th>\n",
       "      <th>Car/Suv</th>\n",
       "      <th>Title</th>\n",
       "      <th>UsedOrNew</th>\n",
       "      <th>Transmission</th>\n",
       "      <th>Engine</th>\n",
       "      <th>DriveType</th>\n",
       "      <th>FuelType</th>\n",
       "      <th>FuelConsumption</th>\n",
       "      <th>Kilometres</th>\n",
       "      <th>ColourExtInt</th>\n",
       "      <th>Location</th>\n",
       "      <th>CylindersinEngine</th>\n",
       "      <th>BodyType</th>\n",
       "      <th>Doors</th>\n",
       "      <th>Seats</th>\n",
       "      <th>Price</th>\n",
       "      <th>EngineCapacity</th>\n",
       "    </tr>\n",
       "  </thead>\n",
       "  <tbody>\n",
       "    <tr>\n",
       "      <th>0</th>\n",
       "      <td>Ssangyong</td>\n",
       "      <td>2022.0</td>\n",
       "      <td>Rexton</td>\n",
       "      <td>Sutherland Isuzu Ute</td>\n",
       "      <td>2022 Ssangyong Rexton Ultimate (awd)</td>\n",
       "      <td>DEMO</td>\n",
       "      <td>Automatic</td>\n",
       "      <td>4 cyl, 2.2 L</td>\n",
       "      <td>AWD</td>\n",
       "      <td>Diesel</td>\n",
       "      <td>8.7 L / 100 km</td>\n",
       "      <td>5595</td>\n",
       "      <td>White / Black</td>\n",
       "      <td>Caringbah, NSW</td>\n",
       "      <td>4 cyl</td>\n",
       "      <td>SUV</td>\n",
       "      <td>4 Doors</td>\n",
       "      <td>7 Seats</td>\n",
       "      <td>51990</td>\n",
       "      <td>2200.0</td>\n",
       "    </tr>\n",
       "    <tr>\n",
       "      <th>1</th>\n",
       "      <td>MG</td>\n",
       "      <td>2022.0</td>\n",
       "      <td>MG3</td>\n",
       "      <td>Hatchback</td>\n",
       "      <td>2022 MG MG3 Auto Excite (with Navigation)</td>\n",
       "      <td>USED</td>\n",
       "      <td>Automatic</td>\n",
       "      <td>4 cyl, 1.5 L</td>\n",
       "      <td>Front</td>\n",
       "      <td>Premium</td>\n",
       "      <td>6.7 L / 100 km</td>\n",
       "      <td>16</td>\n",
       "      <td>Black / Black</td>\n",
       "      <td>Brookvale, NSW</td>\n",
       "      <td>4 cyl</td>\n",
       "      <td>Hatchback</td>\n",
       "      <td>5 Doors</td>\n",
       "      <td>5 Seats</td>\n",
       "      <td>19990</td>\n",
       "      <td>1500.0</td>\n",
       "    </tr>\n",
       "    <tr>\n",
       "      <th>2</th>\n",
       "      <td>BMW</td>\n",
       "      <td>2022.0</td>\n",
       "      <td>430I</td>\n",
       "      <td>Coupe</td>\n",
       "      <td>2022 BMW 430I M Sport</td>\n",
       "      <td>USED</td>\n",
       "      <td>Automatic</td>\n",
       "      <td>4 cyl, 2 L</td>\n",
       "      <td>Rear</td>\n",
       "      <td>Premium</td>\n",
       "      <td>6.6 L / 100 km</td>\n",
       "      <td>8472</td>\n",
       "      <td>Grey / White</td>\n",
       "      <td>Sylvania, NSW</td>\n",
       "      <td>4 cyl</td>\n",
       "      <td>Coupe</td>\n",
       "      <td>2 Doors</td>\n",
       "      <td>4 Seats</td>\n",
       "      <td>108988</td>\n",
       "      <td>2000.0</td>\n",
       "    </tr>\n",
       "    <tr>\n",
       "      <th>3</th>\n",
       "      <td>Mercedes-Benz</td>\n",
       "      <td>2011.0</td>\n",
       "      <td>E500</td>\n",
       "      <td>Coupe</td>\n",
       "      <td>2011 Mercedes-Benz E500 Elegance</td>\n",
       "      <td>USED</td>\n",
       "      <td>Automatic</td>\n",
       "      <td>8 cyl, 5.5 L</td>\n",
       "      <td>Rear</td>\n",
       "      <td>Premium</td>\n",
       "      <td>11 L / 100 km</td>\n",
       "      <td>136517</td>\n",
       "      <td>White / Brown</td>\n",
       "      <td>Mount Druitt, NSW</td>\n",
       "      <td>8 cyl</td>\n",
       "      <td>Coupe</td>\n",
       "      <td>2 Doors</td>\n",
       "      <td>4 Seats</td>\n",
       "      <td>32990</td>\n",
       "      <td>5500.0</td>\n",
       "    </tr>\n",
       "    <tr>\n",
       "      <th>4</th>\n",
       "      <td>Renault</td>\n",
       "      <td>2022.0</td>\n",
       "      <td>Arkana</td>\n",
       "      <td>SUV</td>\n",
       "      <td>2022 Renault Arkana Intens</td>\n",
       "      <td>USED</td>\n",
       "      <td>Automatic</td>\n",
       "      <td>4 cyl, 1.3 L</td>\n",
       "      <td>Front</td>\n",
       "      <td>Unleaded</td>\n",
       "      <td>6 L / 100 km</td>\n",
       "      <td>1035</td>\n",
       "      <td>Grey / Black</td>\n",
       "      <td>Castle Hill, NSW</td>\n",
       "      <td>4 cyl</td>\n",
       "      <td>SUV</td>\n",
       "      <td>4 Doors</td>\n",
       "      <td>5 Seats</td>\n",
       "      <td>34990</td>\n",
       "      <td>1300.0</td>\n",
       "    </tr>\n",
       "  </tbody>\n",
       "</table>\n",
       "</div>"
      ],
      "text/plain": [
       "           Brand    Year   Model               Car/Suv  \\\n",
       "0      Ssangyong  2022.0  Rexton  Sutherland Isuzu Ute   \n",
       "1             MG  2022.0     MG3             Hatchback   \n",
       "2            BMW  2022.0    430I                 Coupe   \n",
       "3  Mercedes-Benz  2011.0    E500                 Coupe   \n",
       "4        Renault  2022.0  Arkana                   SUV   \n",
       "\n",
       "                                       Title UsedOrNew Transmission  \\\n",
       "0       2022 Ssangyong Rexton Ultimate (awd)      DEMO    Automatic   \n",
       "1  2022 MG MG3 Auto Excite (with Navigation)      USED    Automatic   \n",
       "2                      2022 BMW 430I M Sport      USED    Automatic   \n",
       "3           2011 Mercedes-Benz E500 Elegance      USED    Automatic   \n",
       "4                 2022 Renault Arkana Intens      USED    Automatic   \n",
       "\n",
       "         Engine DriveType  FuelType FuelConsumption Kilometres   ColourExtInt  \\\n",
       "0  4 cyl, 2.2 L       AWD    Diesel  8.7 L / 100 km       5595  White / Black   \n",
       "1  4 cyl, 1.5 L     Front   Premium  6.7 L / 100 km         16  Black / Black   \n",
       "2    4 cyl, 2 L      Rear   Premium  6.6 L / 100 km       8472   Grey / White   \n",
       "3  8 cyl, 5.5 L      Rear   Premium   11 L / 100 km     136517  White / Brown   \n",
       "4  4 cyl, 1.3 L     Front  Unleaded    6 L / 100 km       1035   Grey / Black   \n",
       "\n",
       "            Location CylindersinEngine   BodyType     Doors     Seats   Price  \\\n",
       "0     Caringbah, NSW             4 cyl        SUV   4 Doors   7 Seats   51990   \n",
       "1     Brookvale, NSW             4 cyl  Hatchback   5 Doors   5 Seats   19990   \n",
       "2      Sylvania, NSW             4 cyl      Coupe   2 Doors   4 Seats  108988   \n",
       "3  Mount Druitt, NSW             8 cyl      Coupe   2 Doors   4 Seats   32990   \n",
       "4   Castle Hill, NSW             4 cyl        SUV   4 Doors   5 Seats   34990   \n",
       "\n",
       "  EngineCapacity  \n",
       "0         2200.0  \n",
       "1         1500.0  \n",
       "2         2000.0  \n",
       "3         5500.0  \n",
       "4         1300.0  "
      ]
     },
     "execution_count": 8,
     "metadata": {},
     "output_type": "execute_result"
    }
   ],
   "source": [
    "df1['EngineCapacity'] = df1['Engine'].apply(get_engine_capacity)\n",
    "df1.head()"
   ]
  },
  {
   "cell_type": "markdown",
   "id": "76ed24ba",
   "metadata": {},
   "source": [
    "#### Defining Cylinders Feature"
   ]
  },
  {
   "cell_type": "code",
   "execution_count": 9,
   "id": "9be6e7b8",
   "metadata": {},
   "outputs": [],
   "source": [
    "def get_cylinders(x):\n",
    "    try:\n",
    "        tokens = x.split(' ')\n",
    "        return int(tokens[0])\n",
    "    except:\n",
    "        return ''"
   ]
  },
  {
   "cell_type": "code",
   "execution_count": 10,
   "id": "c1805f9e",
   "metadata": {},
   "outputs": [
    {
     "data": {
      "text/html": [
       "<div>\n",
       "<style scoped>\n",
       "    .dataframe tbody tr th:only-of-type {\n",
       "        vertical-align: middle;\n",
       "    }\n",
       "\n",
       "    .dataframe tbody tr th {\n",
       "        vertical-align: top;\n",
       "    }\n",
       "\n",
       "    .dataframe thead th {\n",
       "        text-align: right;\n",
       "    }\n",
       "</style>\n",
       "<table border=\"1\" class=\"dataframe\">\n",
       "  <thead>\n",
       "    <tr style=\"text-align: right;\">\n",
       "      <th></th>\n",
       "      <th>Brand</th>\n",
       "      <th>Year</th>\n",
       "      <th>Model</th>\n",
       "      <th>Car/Suv</th>\n",
       "      <th>Title</th>\n",
       "      <th>UsedOrNew</th>\n",
       "      <th>Transmission</th>\n",
       "      <th>Engine</th>\n",
       "      <th>DriveType</th>\n",
       "      <th>FuelType</th>\n",
       "      <th>...</th>\n",
       "      <th>Kilometres</th>\n",
       "      <th>ColourExtInt</th>\n",
       "      <th>Location</th>\n",
       "      <th>CylindersinEngine</th>\n",
       "      <th>BodyType</th>\n",
       "      <th>Doors</th>\n",
       "      <th>Seats</th>\n",
       "      <th>Price</th>\n",
       "      <th>EngineCapacity</th>\n",
       "      <th>Cylinders</th>\n",
       "    </tr>\n",
       "  </thead>\n",
       "  <tbody>\n",
       "    <tr>\n",
       "      <th>0</th>\n",
       "      <td>Ssangyong</td>\n",
       "      <td>2022.0</td>\n",
       "      <td>Rexton</td>\n",
       "      <td>Sutherland Isuzu Ute</td>\n",
       "      <td>2022 Ssangyong Rexton Ultimate (awd)</td>\n",
       "      <td>DEMO</td>\n",
       "      <td>Automatic</td>\n",
       "      <td>4 cyl, 2.2 L</td>\n",
       "      <td>AWD</td>\n",
       "      <td>Diesel</td>\n",
       "      <td>...</td>\n",
       "      <td>5595</td>\n",
       "      <td>White / Black</td>\n",
       "      <td>Caringbah, NSW</td>\n",
       "      <td>4 cyl</td>\n",
       "      <td>SUV</td>\n",
       "      <td>4 Doors</td>\n",
       "      <td>7 Seats</td>\n",
       "      <td>51990</td>\n",
       "      <td>2200.0</td>\n",
       "      <td>4</td>\n",
       "    </tr>\n",
       "    <tr>\n",
       "      <th>1</th>\n",
       "      <td>MG</td>\n",
       "      <td>2022.0</td>\n",
       "      <td>MG3</td>\n",
       "      <td>Hatchback</td>\n",
       "      <td>2022 MG MG3 Auto Excite (with Navigation)</td>\n",
       "      <td>USED</td>\n",
       "      <td>Automatic</td>\n",
       "      <td>4 cyl, 1.5 L</td>\n",
       "      <td>Front</td>\n",
       "      <td>Premium</td>\n",
       "      <td>...</td>\n",
       "      <td>16</td>\n",
       "      <td>Black / Black</td>\n",
       "      <td>Brookvale, NSW</td>\n",
       "      <td>4 cyl</td>\n",
       "      <td>Hatchback</td>\n",
       "      <td>5 Doors</td>\n",
       "      <td>5 Seats</td>\n",
       "      <td>19990</td>\n",
       "      <td>1500.0</td>\n",
       "      <td>4</td>\n",
       "    </tr>\n",
       "    <tr>\n",
       "      <th>2</th>\n",
       "      <td>BMW</td>\n",
       "      <td>2022.0</td>\n",
       "      <td>430I</td>\n",
       "      <td>Coupe</td>\n",
       "      <td>2022 BMW 430I M Sport</td>\n",
       "      <td>USED</td>\n",
       "      <td>Automatic</td>\n",
       "      <td>4 cyl, 2 L</td>\n",
       "      <td>Rear</td>\n",
       "      <td>Premium</td>\n",
       "      <td>...</td>\n",
       "      <td>8472</td>\n",
       "      <td>Grey / White</td>\n",
       "      <td>Sylvania, NSW</td>\n",
       "      <td>4 cyl</td>\n",
       "      <td>Coupe</td>\n",
       "      <td>2 Doors</td>\n",
       "      <td>4 Seats</td>\n",
       "      <td>108988</td>\n",
       "      <td>2000.0</td>\n",
       "      <td>4</td>\n",
       "    </tr>\n",
       "    <tr>\n",
       "      <th>3</th>\n",
       "      <td>Mercedes-Benz</td>\n",
       "      <td>2011.0</td>\n",
       "      <td>E500</td>\n",
       "      <td>Coupe</td>\n",
       "      <td>2011 Mercedes-Benz E500 Elegance</td>\n",
       "      <td>USED</td>\n",
       "      <td>Automatic</td>\n",
       "      <td>8 cyl, 5.5 L</td>\n",
       "      <td>Rear</td>\n",
       "      <td>Premium</td>\n",
       "      <td>...</td>\n",
       "      <td>136517</td>\n",
       "      <td>White / Brown</td>\n",
       "      <td>Mount Druitt, NSW</td>\n",
       "      <td>8 cyl</td>\n",
       "      <td>Coupe</td>\n",
       "      <td>2 Doors</td>\n",
       "      <td>4 Seats</td>\n",
       "      <td>32990</td>\n",
       "      <td>5500.0</td>\n",
       "      <td>8</td>\n",
       "    </tr>\n",
       "    <tr>\n",
       "      <th>4</th>\n",
       "      <td>Renault</td>\n",
       "      <td>2022.0</td>\n",
       "      <td>Arkana</td>\n",
       "      <td>SUV</td>\n",
       "      <td>2022 Renault Arkana Intens</td>\n",
       "      <td>USED</td>\n",
       "      <td>Automatic</td>\n",
       "      <td>4 cyl, 1.3 L</td>\n",
       "      <td>Front</td>\n",
       "      <td>Unleaded</td>\n",
       "      <td>...</td>\n",
       "      <td>1035</td>\n",
       "      <td>Grey / Black</td>\n",
       "      <td>Castle Hill, NSW</td>\n",
       "      <td>4 cyl</td>\n",
       "      <td>SUV</td>\n",
       "      <td>4 Doors</td>\n",
       "      <td>5 Seats</td>\n",
       "      <td>34990</td>\n",
       "      <td>1300.0</td>\n",
       "      <td>4</td>\n",
       "    </tr>\n",
       "  </tbody>\n",
       "</table>\n",
       "<p>5 rows × 21 columns</p>\n",
       "</div>"
      ],
      "text/plain": [
       "           Brand    Year   Model               Car/Suv  \\\n",
       "0      Ssangyong  2022.0  Rexton  Sutherland Isuzu Ute   \n",
       "1             MG  2022.0     MG3             Hatchback   \n",
       "2            BMW  2022.0    430I                 Coupe   \n",
       "3  Mercedes-Benz  2011.0    E500                 Coupe   \n",
       "4        Renault  2022.0  Arkana                   SUV   \n",
       "\n",
       "                                       Title UsedOrNew Transmission  \\\n",
       "0       2022 Ssangyong Rexton Ultimate (awd)      DEMO    Automatic   \n",
       "1  2022 MG MG3 Auto Excite (with Navigation)      USED    Automatic   \n",
       "2                      2022 BMW 430I M Sport      USED    Automatic   \n",
       "3           2011 Mercedes-Benz E500 Elegance      USED    Automatic   \n",
       "4                 2022 Renault Arkana Intens      USED    Automatic   \n",
       "\n",
       "         Engine DriveType  FuelType  ... Kilometres   ColourExtInt  \\\n",
       "0  4 cyl, 2.2 L       AWD    Diesel  ...       5595  White / Black   \n",
       "1  4 cyl, 1.5 L     Front   Premium  ...         16  Black / Black   \n",
       "2    4 cyl, 2 L      Rear   Premium  ...       8472   Grey / White   \n",
       "3  8 cyl, 5.5 L      Rear   Premium  ...     136517  White / Brown   \n",
       "4  4 cyl, 1.3 L     Front  Unleaded  ...       1035   Grey / Black   \n",
       "\n",
       "            Location CylindersinEngine   BodyType     Doors     Seats   Price  \\\n",
       "0     Caringbah, NSW             4 cyl        SUV   4 Doors   7 Seats   51990   \n",
       "1     Brookvale, NSW             4 cyl  Hatchback   5 Doors   5 Seats   19990   \n",
       "2      Sylvania, NSW             4 cyl      Coupe   2 Doors   4 Seats  108988   \n",
       "3  Mount Druitt, NSW             8 cyl      Coupe   2 Doors   4 Seats   32990   \n",
       "4   Castle Hill, NSW             4 cyl        SUV   4 Doors   5 Seats   34990   \n",
       "\n",
       "  EngineCapacity Cylinders  \n",
       "0         2200.0         4  \n",
       "1         1500.0         4  \n",
       "2         2000.0         4  \n",
       "3         5500.0         8  \n",
       "4         1300.0         4  \n",
       "\n",
       "[5 rows x 21 columns]"
      ]
     },
     "execution_count": 10,
     "metadata": {},
     "output_type": "execute_result"
    }
   ],
   "source": [
    "df1['Cylinders'] = df1['CylindersinEngine'].apply(get_cylinders)\n",
    "df1.head()"
   ]
  },
  {
   "cell_type": "markdown",
   "id": "ced3bc63",
   "metadata": {},
   "source": [
    "#### Droping &Renaming Features"
   ]
  },
  {
   "cell_type": "code",
   "execution_count": 11,
   "id": "d365062a",
   "metadata": {},
   "outputs": [
    {
     "name": "stderr",
     "output_type": "stream",
     "text": [
      "C:\\Users\\DULZZ\\AppData\\Local\\Temp\\ipykernel_10156\\677268783.py:2: SettingWithCopyWarning: \n",
      "A value is trying to be set on a copy of a slice from a DataFrame\n",
      "\n",
      "See the caveats in the documentation: https://pandas.pydata.org/pandas-docs/stable/user_guide/indexing.html#returning-a-view-versus-a-copy\n",
      "  df2.rename(columns={'UsedOrNew':'Condition', 'Kilometres':'Mileage'},inplace=True)\n"
     ]
    },
    {
     "data": {
      "text/html": [
       "<div>\n",
       "<style scoped>\n",
       "    .dataframe tbody tr th:only-of-type {\n",
       "        vertical-align: middle;\n",
       "    }\n",
       "\n",
       "    .dataframe tbody tr th {\n",
       "        vertical-align: top;\n",
       "    }\n",
       "\n",
       "    .dataframe thead th {\n",
       "        text-align: right;\n",
       "    }\n",
       "</style>\n",
       "<table border=\"1\" class=\"dataframe\">\n",
       "  <thead>\n",
       "    <tr style=\"text-align: right;\">\n",
       "      <th></th>\n",
       "      <th>Brand</th>\n",
       "      <th>Year</th>\n",
       "      <th>Condition</th>\n",
       "      <th>Transmission</th>\n",
       "      <th>DriveType</th>\n",
       "      <th>FuelType</th>\n",
       "      <th>BodyType</th>\n",
       "      <th>EngineCapacity</th>\n",
       "      <th>Cylinders</th>\n",
       "      <th>Mileage</th>\n",
       "      <th>Price</th>\n",
       "    </tr>\n",
       "  </thead>\n",
       "  <tbody>\n",
       "    <tr>\n",
       "      <th>0</th>\n",
       "      <td>Ssangyong</td>\n",
       "      <td>2022.0</td>\n",
       "      <td>DEMO</td>\n",
       "      <td>Automatic</td>\n",
       "      <td>AWD</td>\n",
       "      <td>Diesel</td>\n",
       "      <td>SUV</td>\n",
       "      <td>2200.0</td>\n",
       "      <td>4</td>\n",
       "      <td>5595</td>\n",
       "      <td>51990</td>\n",
       "    </tr>\n",
       "    <tr>\n",
       "      <th>1</th>\n",
       "      <td>MG</td>\n",
       "      <td>2022.0</td>\n",
       "      <td>USED</td>\n",
       "      <td>Automatic</td>\n",
       "      <td>Front</td>\n",
       "      <td>Premium</td>\n",
       "      <td>Hatchback</td>\n",
       "      <td>1500.0</td>\n",
       "      <td>4</td>\n",
       "      <td>16</td>\n",
       "      <td>19990</td>\n",
       "    </tr>\n",
       "    <tr>\n",
       "      <th>2</th>\n",
       "      <td>BMW</td>\n",
       "      <td>2022.0</td>\n",
       "      <td>USED</td>\n",
       "      <td>Automatic</td>\n",
       "      <td>Rear</td>\n",
       "      <td>Premium</td>\n",
       "      <td>Coupe</td>\n",
       "      <td>2000.0</td>\n",
       "      <td>4</td>\n",
       "      <td>8472</td>\n",
       "      <td>108988</td>\n",
       "    </tr>\n",
       "    <tr>\n",
       "      <th>3</th>\n",
       "      <td>Mercedes-Benz</td>\n",
       "      <td>2011.0</td>\n",
       "      <td>USED</td>\n",
       "      <td>Automatic</td>\n",
       "      <td>Rear</td>\n",
       "      <td>Premium</td>\n",
       "      <td>Coupe</td>\n",
       "      <td>5500.0</td>\n",
       "      <td>8</td>\n",
       "      <td>136517</td>\n",
       "      <td>32990</td>\n",
       "    </tr>\n",
       "    <tr>\n",
       "      <th>4</th>\n",
       "      <td>Renault</td>\n",
       "      <td>2022.0</td>\n",
       "      <td>USED</td>\n",
       "      <td>Automatic</td>\n",
       "      <td>Front</td>\n",
       "      <td>Unleaded</td>\n",
       "      <td>SUV</td>\n",
       "      <td>1300.0</td>\n",
       "      <td>4</td>\n",
       "      <td>1035</td>\n",
       "      <td>34990</td>\n",
       "    </tr>\n",
       "    <tr>\n",
       "      <th>...</th>\n",
       "      <td>...</td>\n",
       "      <td>...</td>\n",
       "      <td>...</td>\n",
       "      <td>...</td>\n",
       "      <td>...</td>\n",
       "      <td>...</td>\n",
       "      <td>...</td>\n",
       "      <td>...</td>\n",
       "      <td>...</td>\n",
       "      <td>...</td>\n",
       "      <td>...</td>\n",
       "    </tr>\n",
       "    <tr>\n",
       "      <th>16729</th>\n",
       "      <td>Toyota</td>\n",
       "      <td>2014.0</td>\n",
       "      <td>USED</td>\n",
       "      <td>Automatic</td>\n",
       "      <td>Front</td>\n",
       "      <td>Unleaded</td>\n",
       "      <td>Commercial</td>\n",
       "      <td></td>\n",
       "      <td></td>\n",
       "      <td>66000</td>\n",
       "      <td>29500</td>\n",
       "    </tr>\n",
       "    <tr>\n",
       "      <th>16730</th>\n",
       "      <td>Mercedes-Benz</td>\n",
       "      <td>2012.0</td>\n",
       "      <td>USED</td>\n",
       "      <td>Automatic</td>\n",
       "      <td>Rear</td>\n",
       "      <td>Diesel</td>\n",
       "      <td>NaN</td>\n",
       "      <td></td>\n",
       "      <td></td>\n",
       "      <td>117432</td>\n",
       "      <td>39888</td>\n",
       "    </tr>\n",
       "    <tr>\n",
       "      <th>16731</th>\n",
       "      <td>Suzuki</td>\n",
       "      <td>2022.0</td>\n",
       "      <td>DEMO</td>\n",
       "      <td>Automatic</td>\n",
       "      <td>Front</td>\n",
       "      <td>Unleaded</td>\n",
       "      <td>SUV</td>\n",
       "      <td>1600.0</td>\n",
       "      <td>4</td>\n",
       "      <td>5165</td>\n",
       "      <td>35280</td>\n",
       "    </tr>\n",
       "    <tr>\n",
       "      <th>16732</th>\n",
       "      <td>Mercedes-Benz</td>\n",
       "      <td>2016.0</td>\n",
       "      <td>USED</td>\n",
       "      <td>Automatic</td>\n",
       "      <td>AWD</td>\n",
       "      <td>Premium</td>\n",
       "      <td>SUV</td>\n",
       "      <td>2000.0</td>\n",
       "      <td>4</td>\n",
       "      <td>85525</td>\n",
       "      <td>41888</td>\n",
       "    </tr>\n",
       "    <tr>\n",
       "      <th>16733</th>\n",
       "      <td>Mercedes-Benz</td>\n",
       "      <td>2021.0</td>\n",
       "      <td>USED</td>\n",
       "      <td>Automatic</td>\n",
       "      <td>Rear</td>\n",
       "      <td>Unleaded</td>\n",
       "      <td>Sedan</td>\n",
       "      <td>2000.0</td>\n",
       "      <td>4</td>\n",
       "      <td>31852</td>\n",
       "      <td>65888</td>\n",
       "    </tr>\n",
       "  </tbody>\n",
       "</table>\n",
       "<p>16734 rows × 11 columns</p>\n",
       "</div>"
      ],
      "text/plain": [
       "               Brand    Year Condition Transmission DriveType  FuelType  \\\n",
       "0          Ssangyong  2022.0      DEMO    Automatic       AWD    Diesel   \n",
       "1                 MG  2022.0      USED    Automatic     Front   Premium   \n",
       "2                BMW  2022.0      USED    Automatic      Rear   Premium   \n",
       "3      Mercedes-Benz  2011.0      USED    Automatic      Rear   Premium   \n",
       "4            Renault  2022.0      USED    Automatic     Front  Unleaded   \n",
       "...              ...     ...       ...          ...       ...       ...   \n",
       "16729         Toyota  2014.0      USED    Automatic     Front  Unleaded   \n",
       "16730  Mercedes-Benz  2012.0      USED    Automatic      Rear    Diesel   \n",
       "16731         Suzuki  2022.0      DEMO    Automatic     Front  Unleaded   \n",
       "16732  Mercedes-Benz  2016.0      USED    Automatic       AWD   Premium   \n",
       "16733  Mercedes-Benz  2021.0      USED    Automatic      Rear  Unleaded   \n",
       "\n",
       "         BodyType EngineCapacity Cylinders Mileage   Price  \n",
       "0             SUV         2200.0         4    5595   51990  \n",
       "1       Hatchback         1500.0         4      16   19990  \n",
       "2           Coupe         2000.0         4    8472  108988  \n",
       "3           Coupe         5500.0         8  136517   32990  \n",
       "4             SUV         1300.0         4    1035   34990  \n",
       "...           ...            ...       ...     ...     ...  \n",
       "16729  Commercial                            66000   29500  \n",
       "16730         NaN                           117432   39888  \n",
       "16731         SUV         1600.0         4    5165   35280  \n",
       "16732         SUV         2000.0         4   85525   41888  \n",
       "16733       Sedan         2000.0         4   31852   65888  \n",
       "\n",
       "[16734 rows x 11 columns]"
      ]
     },
     "execution_count": 11,
     "metadata": {},
     "output_type": "execute_result"
    }
   ],
   "source": [
    "df2 = df1[['Brand', 'Year', 'UsedOrNew', 'Transmission', 'DriveType', 'FuelType', 'BodyType', 'EngineCapacity', 'Cylinders', 'Kilometres', 'Price']]\n",
    "df2.rename(columns={'UsedOrNew':'Condition', 'Kilometres':'Mileage'},inplace=True)\n",
    "df2"
   ]
  },
  {
   "cell_type": "markdown",
   "id": "1a936b56",
   "metadata": {},
   "source": [
    "## Data Cleaning"
   ]
  },
  {
   "cell_type": "markdown",
   "id": "77c9532f",
   "metadata": {},
   "source": [
    "#### Brand"
   ]
  },
  {
   "cell_type": "code",
   "execution_count": 12,
   "id": "8d7fe7f1",
   "metadata": {},
   "outputs": [
    {
     "data": {
      "text/plain": [
       "array(['Ssangyong', 'MG', 'BMW', 'Mercedes-Benz', 'Renault', 'Toyota',\n",
       "       'Land', 'Nissan', 'Honda', 'Volkswagen', 'Mitsubishi', 'Ford',\n",
       "       'Subaru', 'Hyundai', 'Jeep', 'Volvo', 'Mazda', 'Abarth', 'Holden',\n",
       "       'Audi', 'Kia', 'Mini', 'Peugeot', 'Suzuki', 'Dodge', 'Porsche',\n",
       "       'Daihatsu', 'Isuzu', 'Lexus', 'Jaguar', 'Rolls-Royce', 'Skoda',\n",
       "       'Fiat', 'Haval', 'Citroen', 'LDV', 'HSV', 'Foton', 'Mahindra',\n",
       "       'Maserati', 'Alfa', 'GWM', 'Ram', 'Tesla', 'Genesis', 'Chrysler',\n",
       "       'Great', 'Opel', 'Saab', 'Bentley', 'Rover', nan, 'Ferrari',\n",
       "       'Cupra', 'Chevrolet', 'Lamborghini', 'FPV', 'McLaren', 'Chery',\n",
       "       'Iveco', 'Hummer', 'Infiniti', 'BYD', 'Tata', 'Aston', 'Daewoo',\n",
       "       'Proton', 'Geely', 'Smart', 'Ineos', 'Caterham', 'Hino',\n",
       "       'International', 'Lotus', 'Polestar', 'Datsun', 'Packard'],\n",
       "      dtype=object)"
      ]
     },
     "execution_count": 12,
     "metadata": {},
     "output_type": "execute_result"
    }
   ],
   "source": [
    "df2['Brand'].unique()"
   ]
  },
  {
   "cell_type": "code",
   "execution_count": 13,
   "id": "6a3e18d9",
   "metadata": {},
   "outputs": [
    {
     "data": {
      "text/plain": [
       "Brand\n",
       "Abarth            3\n",
       "Alfa             14\n",
       "Aston             5\n",
       "BYD               3\n",
       "Bentley          12\n",
       "Caterham          2\n",
       "Chery            13\n",
       "Chevrolet        13\n",
       "Chrysler         26\n",
       "Citroen          15\n",
       "Cupra             9\n",
       "Daewoo            1\n",
       "Daihatsu         11\n",
       "Datsun            1\n",
       "Dodge            13\n",
       "FPV               5\n",
       "Ferrari           8\n",
       "Fiat             36\n",
       "Foton             4\n",
       "Geely             1\n",
       "Genesis          14\n",
       "Great            16\n",
       "HSV              44\n",
       "Haval            22\n",
       "Hino             26\n",
       "Hummer            1\n",
       "Ineos             4\n",
       "Infiniti          3\n",
       "International     2\n",
       "Iveco            37\n",
       "Jaguar           51\n",
       "Lamborghini       2\n",
       "Lotus             3\n",
       "Mahindra         12\n",
       "Maserati         16\n",
       "McLaren           8\n",
       "Mini             83\n",
       "Opel              4\n",
       "Packard           1\n",
       "Peugeot          59\n",
       "Polestar          1\n",
       "Porsche          97\n",
       "Proton            1\n",
       "Ram              34\n",
       "Rolls-Royce       1\n",
       "Rover             3\n",
       "Saab              2\n",
       "Smart             1\n",
       "Ssangyong        58\n",
       "Tata              1\n",
       "Tesla            16\n",
       "Name: Brand, dtype: int64"
      ]
     },
     "execution_count": 13,
     "metadata": {},
     "output_type": "execute_result"
    }
   ],
   "source": [
    "# check brands with less than 100 cars\n",
    "\n",
    "brand_count = df2.groupby('Brand')['Brand'].agg('count')\n",
    "brands_less_than_100_cars = brand_count[brand_count<100]\n",
    "brands_less_than_100_cars\n"
   ]
  },
  {
   "cell_type": "code",
   "execution_count": 14,
   "id": "2f600b7e",
   "metadata": {},
   "outputs": [
    {
     "name": "stderr",
     "output_type": "stream",
     "text": [
      "C:\\Users\\DULZZ\\AppData\\Local\\Temp\\ipykernel_10156\\4146312331.py:3: SettingWithCopyWarning: \n",
      "A value is trying to be set on a copy of a slice from a DataFrame.\n",
      "Try using .loc[row_indexer,col_indexer] = value instead\n",
      "\n",
      "See the caveats in the documentation: https://pandas.pydata.org/pandas-docs/stable/user_guide/indexing.html#returning-a-view-versus-a-copy\n",
      "  df2['Brand'] = df2['Brand'].apply(lambda x: np.nan if x in brands_less_than_100_cars else x)\n"
     ]
    }
   ],
   "source": [
    "# replace brands with less than 100 cars as a missing value\n",
    "\n",
    "df2['Brand'] = df2['Brand'].apply(lambda x: np.nan if x in brands_less_than_100_cars else x)"
   ]
  },
  {
   "cell_type": "code",
   "execution_count": 15,
   "id": "df6ca386",
   "metadata": {},
   "outputs": [
    {
     "data": {
      "text/plain": [
       "819"
      ]
     },
     "execution_count": 15,
     "metadata": {},
     "output_type": "execute_result"
    }
   ],
   "source": [
    "# Check missing values\n",
    "df2['Brand'].isnull().sum()"
   ]
  },
  {
   "cell_type": "code",
   "execution_count": 16,
   "id": "d23872d8",
   "metadata": {},
   "outputs": [
    {
     "name": "stderr",
     "output_type": "stream",
     "text": [
      "C:\\Users\\DULZZ\\AppData\\Local\\Temp\\ipykernel_10156\\3238925416.py:2: SettingWithCopyWarning: \n",
      "A value is trying to be set on a copy of a slice from a DataFrame\n",
      "\n",
      "See the caveats in the documentation: https://pandas.pydata.org/pandas-docs/stable/user_guide/indexing.html#returning-a-view-versus-a-copy\n",
      "  df2.dropna(subset = 'Brand', inplace=True)\n"
     ]
    }
   ],
   "source": [
    "# Drop missing values\n",
    "df2.dropna(subset = 'Brand', inplace=True)"
   ]
  },
  {
   "cell_type": "markdown",
   "id": "ea614c44",
   "metadata": {},
   "source": [
    "#### Year"
   ]
  },
  {
   "cell_type": "code",
   "execution_count": 17,
   "id": "67110b07",
   "metadata": {},
   "outputs": [
    {
     "data": {
      "text/plain": [
       "array([2022., 2011., 2004., 2017., 2000., 2013., 2014., 2009., 2018.,\n",
       "       2015., 2016., 2012., 2023., 2005., 2019., 2021., 2007., 2010.,\n",
       "       2003., 2008., 2006., 2020., 1999., 2002., 1995., 1997., 1993.,\n",
       "       2001., 1998., 1996., 1994., 1989., 1990., 1981., 1991., 1985.,\n",
       "       1970., 1984., 1975., 1992.])"
      ]
     },
     "execution_count": 17,
     "metadata": {},
     "output_type": "execute_result"
    }
   ],
   "source": [
    "df2['Year'].unique()"
   ]
  },
  {
   "cell_type": "code",
   "execution_count": 18,
   "id": "5f7cf440",
   "metadata": {},
   "outputs": [
    {
     "data": {
      "text/plain": [
       "0"
      ]
     },
     "execution_count": 18,
     "metadata": {},
     "output_type": "execute_result"
    }
   ],
   "source": [
    "# Check missing values\n",
    "df2['Year'].isnull().sum()"
   ]
  },
  {
   "cell_type": "code",
   "execution_count": 19,
   "id": "e991386d",
   "metadata": {},
   "outputs": [
    {
     "name": "stderr",
     "output_type": "stream",
     "text": [
      "C:\\Users\\DULZZ\\AppData\\Local\\Temp\\ipykernel_10156\\2713083214.py:2: SettingWithCopyWarning: \n",
      "A value is trying to be set on a copy of a slice from a DataFrame.\n",
      "Try using .loc[row_indexer,col_indexer] = value instead\n",
      "\n",
      "See the caveats in the documentation: https://pandas.pydata.org/pandas-docs/stable/user_guide/indexing.html#returning-a-view-versus-a-copy\n",
      "  df2['Year'] = df2['Year'].astype(int)\n"
     ]
    }
   ],
   "source": [
    "# Convert the data type\n",
    "df2['Year'] = df2['Year'].astype(int)"
   ]
  },
  {
   "cell_type": "markdown",
   "id": "1f61f78f",
   "metadata": {},
   "source": [
    "#### Condition"
   ]
  },
  {
   "cell_type": "code",
   "execution_count": 20,
   "id": "bc599e7b",
   "metadata": {},
   "outputs": [
    {
     "data": {
      "text/plain": [
       "array(['USED', 'NEW', 'DEMO'], dtype=object)"
      ]
     },
     "execution_count": 20,
     "metadata": {},
     "output_type": "execute_result"
    }
   ],
   "source": [
    "df2['Condition'].unique()"
   ]
  },
  {
   "cell_type": "code",
   "execution_count": 21,
   "id": "80bee44d",
   "metadata": {},
   "outputs": [
    {
     "data": {
      "text/plain": [
       "0"
      ]
     },
     "execution_count": 21,
     "metadata": {},
     "output_type": "execute_result"
    }
   ],
   "source": [
    "# Check missing values\n",
    "df2['Condition'].isnull().sum()"
   ]
  },
  {
   "cell_type": "code",
   "execution_count": 22,
   "id": "e40b1b48",
   "metadata": {},
   "outputs": [
    {
     "name": "stderr",
     "output_type": "stream",
     "text": [
      "C:\\Users\\DULZZ\\AppData\\Local\\Temp\\ipykernel_10156\\1231395166.py:2: SettingWithCopyWarning: \n",
      "A value is trying to be set on a copy of a slice from a DataFrame\n",
      "\n",
      "See the caveats in the documentation: https://pandas.pydata.org/pandas-docs/stable/user_guide/indexing.html#returning-a-view-versus-a-copy\n",
      "  df2.drop(df2[df2['Condition']=='DEMO'].index, inplace=True)\n"
     ]
    }
   ],
   "source": [
    "# Drop values which Condition = DEMO \n",
    "df2.drop(df2[df2['Condition']=='DEMO'].index, inplace=True)"
   ]
  },
  {
   "cell_type": "markdown",
   "id": "23a67b2e",
   "metadata": {},
   "source": [
    "#### Transmission"
   ]
  },
  {
   "cell_type": "code",
   "execution_count": 23,
   "id": "373fdcb9",
   "metadata": {},
   "outputs": [
    {
     "data": {
      "text/plain": [
       "array(['Automatic', 'Manual', '-'], dtype=object)"
      ]
     },
     "execution_count": 23,
     "metadata": {},
     "output_type": "execute_result"
    }
   ],
   "source": [
    "df2['Transmission'].unique()"
   ]
  },
  {
   "cell_type": "code",
   "execution_count": 24,
   "id": "5e0f99d5",
   "metadata": {},
   "outputs": [
    {
     "name": "stderr",
     "output_type": "stream",
     "text": [
      "C:\\Users\\DULZZ\\AppData\\Local\\Temp\\ipykernel_10156\\2568074160.py:2: SettingWithCopyWarning: \n",
      "A value is trying to be set on a copy of a slice from a DataFrame\n",
      "\n",
      "See the caveats in the documentation: https://pandas.pydata.org/pandas-docs/stable/user_guide/indexing.html#returning-a-view-versus-a-copy\n",
      "  df2['Transmission'].replace('-',np.nan,inplace=True)\n"
     ]
    }
   ],
   "source": [
    "# Replace missing values with NaN\n",
    "df2['Transmission'].replace('-',np.nan,inplace=True)"
   ]
  },
  {
   "cell_type": "code",
   "execution_count": 25,
   "id": "88aa14ba",
   "metadata": {},
   "outputs": [
    {
     "data": {
      "text/plain": [
       "198"
      ]
     },
     "execution_count": 25,
     "metadata": {},
     "output_type": "execute_result"
    }
   ],
   "source": [
    "# Check missing values\n",
    "df2['Transmission'].isnull().sum()"
   ]
  },
  {
   "cell_type": "code",
   "execution_count": 26,
   "id": "0055c490",
   "metadata": {},
   "outputs": [
    {
     "name": "stderr",
     "output_type": "stream",
     "text": [
      "C:\\Users\\DULZZ\\AppData\\Local\\Temp\\ipykernel_10156\\1152171599.py:2: SettingWithCopyWarning: \n",
      "A value is trying to be set on a copy of a slice from a DataFrame\n",
      "\n",
      "See the caveats in the documentation: https://pandas.pydata.org/pandas-docs/stable/user_guide/indexing.html#returning-a-view-versus-a-copy\n",
      "  df2.dropna(subset='Transmission', inplace=True)\n"
     ]
    }
   ],
   "source": [
    "# Drop missing values\n",
    "df2.dropna(subset='Transmission', inplace=True)"
   ]
  },
  {
   "cell_type": "markdown",
   "id": "969e4333",
   "metadata": {},
   "source": [
    "#### DriveType"
   ]
  },
  {
   "cell_type": "code",
   "execution_count": 27,
   "id": "34869efa",
   "metadata": {},
   "outputs": [
    {
     "data": {
      "text/plain": [
       "array(['Front', 'Rear', 'Other', 'AWD', '4WD'], dtype=object)"
      ]
     },
     "execution_count": 27,
     "metadata": {},
     "output_type": "execute_result"
    }
   ],
   "source": [
    "df2['DriveType'].unique()"
   ]
  },
  {
   "cell_type": "code",
   "execution_count": 28,
   "id": "3d4f8e7f",
   "metadata": {},
   "outputs": [
    {
     "data": {
      "text/plain": [
       "0"
      ]
     },
     "execution_count": 28,
     "metadata": {},
     "output_type": "execute_result"
    }
   ],
   "source": [
    "# Check missing values\n",
    "df2['DriveType'].isnull().sum()"
   ]
  },
  {
   "cell_type": "markdown",
   "id": "cceb27af",
   "metadata": {},
   "source": [
    "#### FuelType"
   ]
  },
  {
   "cell_type": "code",
   "execution_count": 29,
   "id": "a1edd8cd",
   "metadata": {},
   "outputs": [
    {
     "data": {
      "text/plain": [
       "array(['Premium', 'Unleaded', 'Diesel', 'Hybrid', '-', 'Other',\n",
       "       'Electric', 'LPG', 'Leaded'], dtype=object)"
      ]
     },
     "execution_count": 29,
     "metadata": {},
     "output_type": "execute_result"
    }
   ],
   "source": [
    "df2['FuelType'].unique()"
   ]
  },
  {
   "cell_type": "code",
   "execution_count": 30,
   "id": "82399de7",
   "metadata": {},
   "outputs": [
    {
     "name": "stderr",
     "output_type": "stream",
     "text": [
      "C:\\Users\\DULZZ\\AppData\\Local\\Temp\\ipykernel_10156\\2249803138.py:2: SettingWithCopyWarning: \n",
      "A value is trying to be set on a copy of a slice from a DataFrame\n",
      "\n",
      "See the caveats in the documentation: https://pandas.pydata.org/pandas-docs/stable/user_guide/indexing.html#returning-a-view-versus-a-copy\n",
      "  df2['FuelType'].replace('-',np.nan,inplace=True)\n"
     ]
    }
   ],
   "source": [
    "# Replace missing values with NaN\n",
    "df2['FuelType'].replace('-',np.nan,inplace=True)"
   ]
  },
  {
   "cell_type": "code",
   "execution_count": 31,
   "id": "c9072b76",
   "metadata": {},
   "outputs": [
    {
     "data": {
      "text/plain": [
       "436"
      ]
     },
     "execution_count": 31,
     "metadata": {},
     "output_type": "execute_result"
    }
   ],
   "source": [
    "# Check missing values\n",
    "df2['FuelType'].isnull().sum()"
   ]
  },
  {
   "cell_type": "code",
   "execution_count": 32,
   "id": "8422e006",
   "metadata": {
    "scrolled": true
   },
   "outputs": [
    {
     "name": "stderr",
     "output_type": "stream",
     "text": [
      "C:\\Users\\DULZZ\\AppData\\Local\\Temp\\ipykernel_10156\\1620605757.py:2: SettingWithCopyWarning: \n",
      "A value is trying to be set on a copy of a slice from a DataFrame\n",
      "\n",
      "See the caveats in the documentation: https://pandas.pydata.org/pandas-docs/stable/user_guide/indexing.html#returning-a-view-versus-a-copy\n",
      "  df2.dropna(subset='FuelType', inplace=True)\n"
     ]
    }
   ],
   "source": [
    "# Drop missing values\n",
    "df2.dropna(subset='FuelType', inplace=True)"
   ]
  },
  {
   "cell_type": "markdown",
   "id": "6472d247",
   "metadata": {},
   "source": [
    "#### BodyType"
   ]
  },
  {
   "cell_type": "code",
   "execution_count": 33,
   "id": "6339005b",
   "metadata": {},
   "outputs": [
    {
     "data": {
      "text/plain": [
       "array(['Hatchback', 'Coupe', 'SUV', 'Commercial', nan, 'Ute / Tray',\n",
       "       'Sedan', 'Wagon', 'People Mover', 'Convertible', 'Other'],\n",
       "      dtype=object)"
      ]
     },
     "execution_count": 33,
     "metadata": {},
     "output_type": "execute_result"
    }
   ],
   "source": [
    "df2['BodyType'].unique()"
   ]
  },
  {
   "cell_type": "code",
   "execution_count": 34,
   "id": "61692031",
   "metadata": {},
   "outputs": [
    {
     "name": "stderr",
     "output_type": "stream",
     "text": [
      "C:\\Users\\DULZZ\\AppData\\Local\\Temp\\ipykernel_10156\\1062915734.py:2: SettingWithCopyWarning: \n",
      "A value is trying to be set on a copy of a slice from a DataFrame\n",
      "\n",
      "See the caveats in the documentation: https://pandas.pydata.org/pandas-docs/stable/user_guide/indexing.html#returning-a-view-versus-a-copy\n",
      "  df2['BodyType'].replace('Ute / Tray','Ute Tray',inplace=True)\n",
      "C:\\Users\\DULZZ\\AppData\\Local\\Temp\\ipykernel_10156\\1062915734.py:5: SettingWithCopyWarning: \n",
      "A value is trying to be set on a copy of a slice from a DataFrame\n",
      "\n",
      "See the caveats in the documentation: https://pandas.pydata.org/pandas-docs/stable/user_guide/indexing.html#returning-a-view-versus-a-copy\n",
      "  df2['BodyType'].replace('-', np.nan, inplace=True)\n"
     ]
    }
   ],
   "source": [
    "# Replace Ute / Tray values with Ute Tray\n",
    "df2['BodyType'].replace('Ute / Tray','Ute Tray',inplace=True)\n",
    "\n",
    "# Replace missing values with NaN\n",
    "df2['BodyType'].replace('-', np.nan, inplace=True)"
   ]
  },
  {
   "cell_type": "code",
   "execution_count": 35,
   "id": "d6c9424e",
   "metadata": {},
   "outputs": [
    {
     "data": {
      "text/plain": [
       "144"
      ]
     },
     "execution_count": 35,
     "metadata": {},
     "output_type": "execute_result"
    }
   ],
   "source": [
    "# Check missing values\n",
    "df2['BodyType'].isnull().sum()"
   ]
  },
  {
   "cell_type": "code",
   "execution_count": 36,
   "id": "1c02dd63",
   "metadata": {},
   "outputs": [
    {
     "name": "stderr",
     "output_type": "stream",
     "text": [
      "C:\\Users\\DULZZ\\AppData\\Local\\Temp\\ipykernel_10156\\1828642278.py:2: SettingWithCopyWarning: \n",
      "A value is trying to be set on a copy of a slice from a DataFrame\n",
      "\n",
      "See the caveats in the documentation: https://pandas.pydata.org/pandas-docs/stable/user_guide/indexing.html#returning-a-view-versus-a-copy\n",
      "  df2.dropna(subset='BodyType', inplace=True)\n"
     ]
    }
   ],
   "source": [
    "# Drop missing values\n",
    "df2.dropna(subset='BodyType', inplace=True)"
   ]
  },
  {
   "cell_type": "markdown",
   "id": "231a57c7",
   "metadata": {},
   "source": [
    "#### EngineCapacity"
   ]
  },
  {
   "cell_type": "code",
   "execution_count": 37,
   "id": "eaf78671",
   "metadata": {},
   "outputs": [
    {
     "data": {
      "text/plain": [
       "array([1500.0, 2000.0, 5500.0, 1300.0, '', 1600.0, 2700.0, 3000.0, 1400.0,\n",
       "       1000.0, 2400.0, 2500.0, 1200.0, 1800.0, 4000.0, 3500.0, 2200.0,\n",
       "       3200.0, 6000.0, 2300.0, 4100.0, 3600.0, 3300.0, 4200.0, 2800.0,\n",
       "       4500.0, 3700.0, 2100.0, 4400.0, 5000.0, 1900.0, 4700.0, 1700.0,\n",
       "       4600.0, 3800.0, 2900.0, 5400.0, 6200.0, 5600.0, 5700.0, 4900.0,\n",
       "       7300.0, 3100.0, 2600.0, 4800.0, 3400.0, 4300.0, 6400.0, 7800.0,\n",
       "       9800.0, 5200.0, 3900.0], dtype=object)"
      ]
     },
     "execution_count": 37,
     "metadata": {},
     "output_type": "execute_result"
    }
   ],
   "source": [
    "df2['EngineCapacity'].unique()"
   ]
  },
  {
   "cell_type": "code",
   "execution_count": 38,
   "id": "4fe09bc3",
   "metadata": {},
   "outputs": [
    {
     "name": "stderr",
     "output_type": "stream",
     "text": [
      "C:\\Users\\DULZZ\\AppData\\Local\\Temp\\ipykernel_10156\\1148236047.py:2: SettingWithCopyWarning: \n",
      "A value is trying to be set on a copy of a slice from a DataFrame\n",
      "\n",
      "See the caveats in the documentation: https://pandas.pydata.org/pandas-docs/stable/user_guide/indexing.html#returning-a-view-versus-a-copy\n",
      "  df2['EngineCapacity'].replace('', np.nan, inplace=True)\n"
     ]
    }
   ],
   "source": [
    "# Replace missing values with NaN\n",
    "df2['EngineCapacity'].replace('', np.nan, inplace=True)"
   ]
  },
  {
   "cell_type": "code",
   "execution_count": 39,
   "id": "1e67a8a2",
   "metadata": {},
   "outputs": [
    {
     "data": {
      "text/plain": [
       "985"
      ]
     },
     "execution_count": 39,
     "metadata": {},
     "output_type": "execute_result"
    }
   ],
   "source": [
    "# Check missing values\n",
    "df2['EngineCapacity'].isnull().sum()"
   ]
  },
  {
   "cell_type": "code",
   "execution_count": 40,
   "id": "e4939cd2",
   "metadata": {},
   "outputs": [
    {
     "name": "stderr",
     "output_type": "stream",
     "text": [
      "C:\\Users\\DULZZ\\AppData\\Local\\Temp\\ipykernel_10156\\411694984.py:2: SettingWithCopyWarning: \n",
      "A value is trying to be set on a copy of a slice from a DataFrame\n",
      "\n",
      "See the caveats in the documentation: https://pandas.pydata.org/pandas-docs/stable/user_guide/indexing.html#returning-a-view-versus-a-copy\n",
      "  df2.dropna(subset='EngineCapacity', inplace=True)\n"
     ]
    }
   ],
   "source": [
    "# Drop missing values\n",
    "df2.dropna(subset='EngineCapacity', inplace=True)"
   ]
  },
  {
   "cell_type": "code",
   "execution_count": 41,
   "id": "b2df7bf7",
   "metadata": {},
   "outputs": [
    {
     "name": "stderr",
     "output_type": "stream",
     "text": [
      "C:\\Users\\DULZZ\\AppData\\Local\\Temp\\ipykernel_10156\\3883482411.py:2: SettingWithCopyWarning: \n",
      "A value is trying to be set on a copy of a slice from a DataFrame.\n",
      "Try using .loc[row_indexer,col_indexer] = value instead\n",
      "\n",
      "See the caveats in the documentation: https://pandas.pydata.org/pandas-docs/stable/user_guide/indexing.html#returning-a-view-versus-a-copy\n",
      "  df2['EngineCapacity'] = df2['EngineCapacity'].astype(int)\n"
     ]
    }
   ],
   "source": [
    "# Convert the data type\n",
    "df2['EngineCapacity'] = df2['EngineCapacity'].astype(int)"
   ]
  },
  {
   "cell_type": "markdown",
   "id": "4cbae834",
   "metadata": {},
   "source": [
    "#### Cylinders"
   ]
  },
  {
   "cell_type": "code",
   "execution_count": 42,
   "id": "9855de10",
   "metadata": {},
   "outputs": [
    {
     "data": {
      "text/plain": [
       "array([4, 8, 3, 6, 5, 12, 2, 10], dtype=object)"
      ]
     },
     "execution_count": 42,
     "metadata": {},
     "output_type": "execute_result"
    }
   ],
   "source": [
    "df2['Cylinders'].unique()"
   ]
  },
  {
   "cell_type": "code",
   "execution_count": 43,
   "id": "4f16e91a",
   "metadata": {},
   "outputs": [
    {
     "data": {
      "text/plain": [
       "0"
      ]
     },
     "execution_count": 43,
     "metadata": {},
     "output_type": "execute_result"
    }
   ],
   "source": [
    "# check missing values\n",
    "df2['Cylinders'].isnull().sum()"
   ]
  },
  {
   "cell_type": "code",
   "execution_count": 44,
   "id": "4e289d3d",
   "metadata": {},
   "outputs": [
    {
     "name": "stderr",
     "output_type": "stream",
     "text": [
      "C:\\Users\\DULZZ\\AppData\\Local\\Temp\\ipykernel_10156\\3363290256.py:2: SettingWithCopyWarning: \n",
      "A value is trying to be set on a copy of a slice from a DataFrame.\n",
      "Try using .loc[row_indexer,col_indexer] = value instead\n",
      "\n",
      "See the caveats in the documentation: https://pandas.pydata.org/pandas-docs/stable/user_guide/indexing.html#returning-a-view-versus-a-copy\n",
      "  df2['Cylinders'] = df2['Cylinders'].astype(int)\n"
     ]
    }
   ],
   "source": [
    "# Convert the data type\n",
    "df2['Cylinders'] = df2['Cylinders'].astype(int)"
   ]
  },
  {
   "cell_type": "markdown",
   "id": "3823951a",
   "metadata": {},
   "source": [
    "#### Mileage"
   ]
  },
  {
   "cell_type": "code",
   "execution_count": 45,
   "id": "4d689d1a",
   "metadata": {},
   "outputs": [
    {
     "data": {
      "text/html": [
       "<div>\n",
       "<style scoped>\n",
       "    .dataframe tbody tr th:only-of-type {\n",
       "        vertical-align: middle;\n",
       "    }\n",
       "\n",
       "    .dataframe tbody tr th {\n",
       "        vertical-align: top;\n",
       "    }\n",
       "\n",
       "    .dataframe thead th {\n",
       "        text-align: right;\n",
       "    }\n",
       "</style>\n",
       "<table border=\"1\" class=\"dataframe\">\n",
       "  <thead>\n",
       "    <tr style=\"text-align: right;\">\n",
       "      <th></th>\n",
       "      <th>Brand</th>\n",
       "      <th>Year</th>\n",
       "      <th>Condition</th>\n",
       "      <th>Transmission</th>\n",
       "      <th>DriveType</th>\n",
       "      <th>FuelType</th>\n",
       "      <th>BodyType</th>\n",
       "      <th>EngineCapacity</th>\n",
       "      <th>Cylinders</th>\n",
       "      <th>Mileage</th>\n",
       "      <th>Price</th>\n",
       "    </tr>\n",
       "  </thead>\n",
       "  <tbody>\n",
       "    <tr>\n",
       "      <th>2250</th>\n",
       "      <td>Volkswagen</td>\n",
       "      <td>2023</td>\n",
       "      <td>NEW</td>\n",
       "      <td>Automatic</td>\n",
       "      <td>AWD</td>\n",
       "      <td>Premium</td>\n",
       "      <td>SUV</td>\n",
       "      <td>2000</td>\n",
       "      <td>4</td>\n",
       "      <td>-</td>\n",
       "      <td>85990</td>\n",
       "    </tr>\n",
       "    <tr>\n",
       "      <th>2431</th>\n",
       "      <td>Renault</td>\n",
       "      <td>2023</td>\n",
       "      <td>NEW</td>\n",
       "      <td>Automatic</td>\n",
       "      <td>Front</td>\n",
       "      <td>Unleaded</td>\n",
       "      <td>SUV</td>\n",
       "      <td>2500</td>\n",
       "      <td>4</td>\n",
       "      <td>-</td>\n",
       "      <td>46888</td>\n",
       "    </tr>\n",
       "    <tr>\n",
       "      <th>2686</th>\n",
       "      <td>Volkswagen</td>\n",
       "      <td>2022</td>\n",
       "      <td>NEW</td>\n",
       "      <td>Automatic</td>\n",
       "      <td>AWD</td>\n",
       "      <td>Premium</td>\n",
       "      <td>Wagon</td>\n",
       "      <td>2000</td>\n",
       "      <td>4</td>\n",
       "      <td>-</td>\n",
       "      <td>68990</td>\n",
       "    </tr>\n",
       "    <tr>\n",
       "      <th>2738</th>\n",
       "      <td>Volkswagen</td>\n",
       "      <td>2022</td>\n",
       "      <td>NEW</td>\n",
       "      <td>Automatic</td>\n",
       "      <td>AWD</td>\n",
       "      <td>Premium</td>\n",
       "      <td>SUV</td>\n",
       "      <td>2000</td>\n",
       "      <td>4</td>\n",
       "      <td>-</td>\n",
       "      <td>52490</td>\n",
       "    </tr>\n",
       "    <tr>\n",
       "      <th>3002</th>\n",
       "      <td>Volkswagen</td>\n",
       "      <td>2023</td>\n",
       "      <td>NEW</td>\n",
       "      <td>Automatic</td>\n",
       "      <td>AWD</td>\n",
       "      <td>Premium</td>\n",
       "      <td>Wagon</td>\n",
       "      <td>2000</td>\n",
       "      <td>4</td>\n",
       "      <td>-</td>\n",
       "      <td>74990</td>\n",
       "    </tr>\n",
       "    <tr>\n",
       "      <th>...</th>\n",
       "      <td>...</td>\n",
       "      <td>...</td>\n",
       "      <td>...</td>\n",
       "      <td>...</td>\n",
       "      <td>...</td>\n",
       "      <td>...</td>\n",
       "      <td>...</td>\n",
       "      <td>...</td>\n",
       "      <td>...</td>\n",
       "      <td>...</td>\n",
       "      <td>...</td>\n",
       "    </tr>\n",
       "    <tr>\n",
       "      <th>16603</th>\n",
       "      <td>Mazda</td>\n",
       "      <td>2023</td>\n",
       "      <td>NEW</td>\n",
       "      <td>Automatic</td>\n",
       "      <td>Front</td>\n",
       "      <td>Unleaded</td>\n",
       "      <td>SUV</td>\n",
       "      <td>2500</td>\n",
       "      <td>4</td>\n",
       "      <td>-</td>\n",
       "      <td>60376</td>\n",
       "    </tr>\n",
       "    <tr>\n",
       "      <th>16629</th>\n",
       "      <td>Suzuki</td>\n",
       "      <td>2022</td>\n",
       "      <td>NEW</td>\n",
       "      <td>Manual</td>\n",
       "      <td>Front</td>\n",
       "      <td>Unleaded</td>\n",
       "      <td>Hatchback</td>\n",
       "      <td>1400</td>\n",
       "      <td>4</td>\n",
       "      <td>-</td>\n",
       "      <td>34690</td>\n",
       "    </tr>\n",
       "    <tr>\n",
       "      <th>16642</th>\n",
       "      <td>Suzuki</td>\n",
       "      <td>2022</td>\n",
       "      <td>NEW</td>\n",
       "      <td>Automatic</td>\n",
       "      <td>Front</td>\n",
       "      <td>Premium</td>\n",
       "      <td>SUV</td>\n",
       "      <td>1200</td>\n",
       "      <td>4</td>\n",
       "      <td>-</td>\n",
       "      <td>24485</td>\n",
       "    </tr>\n",
       "    <tr>\n",
       "      <th>16651</th>\n",
       "      <td>Suzuki</td>\n",
       "      <td>2022</td>\n",
       "      <td>NEW</td>\n",
       "      <td>Automatic</td>\n",
       "      <td>Front</td>\n",
       "      <td>Unleaded</td>\n",
       "      <td>Hatchback</td>\n",
       "      <td>1200</td>\n",
       "      <td>4</td>\n",
       "      <td>-</td>\n",
       "      <td>27690</td>\n",
       "    </tr>\n",
       "    <tr>\n",
       "      <th>16661</th>\n",
       "      <td>Hyundai</td>\n",
       "      <td>2023</td>\n",
       "      <td>NEW</td>\n",
       "      <td>Automatic</td>\n",
       "      <td>Front</td>\n",
       "      <td>Premium</td>\n",
       "      <td>SUV</td>\n",
       "      <td>2000</td>\n",
       "      <td>4</td>\n",
       "      <td>-</td>\n",
       "      <td>57600</td>\n",
       "    </tr>\n",
       "  </tbody>\n",
       "</table>\n",
       "<p>328 rows × 11 columns</p>\n",
       "</div>"
      ],
      "text/plain": [
       "            Brand  Year Condition Transmission DriveType  FuelType   BodyType  \\\n",
       "2250   Volkswagen  2023       NEW    Automatic       AWD   Premium        SUV   \n",
       "2431      Renault  2023       NEW    Automatic     Front  Unleaded        SUV   \n",
       "2686   Volkswagen  2022       NEW    Automatic       AWD   Premium      Wagon   \n",
       "2738   Volkswagen  2022       NEW    Automatic       AWD   Premium        SUV   \n",
       "3002   Volkswagen  2023       NEW    Automatic       AWD   Premium      Wagon   \n",
       "...           ...   ...       ...          ...       ...       ...        ...   \n",
       "16603       Mazda  2023       NEW    Automatic     Front  Unleaded        SUV   \n",
       "16629      Suzuki  2022       NEW       Manual     Front  Unleaded  Hatchback   \n",
       "16642      Suzuki  2022       NEW    Automatic     Front   Premium        SUV   \n",
       "16651      Suzuki  2022       NEW    Automatic     Front  Unleaded  Hatchback   \n",
       "16661     Hyundai  2023       NEW    Automatic     Front   Premium        SUV   \n",
       "\n",
       "       EngineCapacity  Cylinders Mileage  Price  \n",
       "2250             2000          4       -  85990  \n",
       "2431             2500          4       -  46888  \n",
       "2686             2000          4       -  68990  \n",
       "2738             2000          4       -  52490  \n",
       "3002             2000          4       -  74990  \n",
       "...               ...        ...     ...    ...  \n",
       "16603            2500          4       -  60376  \n",
       "16629            1400          4       -  34690  \n",
       "16642            1200          4       -  24485  \n",
       "16651            1200          4       -  27690  \n",
       "16661            2000          4       -  57600  \n",
       "\n",
       "[328 rows x 11 columns]"
      ]
     },
     "execution_count": 45,
     "metadata": {},
     "output_type": "execute_result"
    }
   ],
   "source": [
    "df2[(df2['Mileage']=='-') | (df2['Mileage']=='- / -')]"
   ]
  },
  {
   "cell_type": "code",
   "execution_count": 46,
   "id": "cd85f666",
   "metadata": {},
   "outputs": [
    {
     "name": "stderr",
     "output_type": "stream",
     "text": [
      "C:\\Users\\DULZZ\\AppData\\Local\\Temp\\ipykernel_10156\\3340717015.py:2: SettingWithCopyWarning: \n",
      "A value is trying to be set on a copy of a slice from a DataFrame\n",
      "\n",
      "See the caveats in the documentation: https://pandas.pydata.org/pandas-docs/stable/user_guide/indexing.html#returning-a-view-versus-a-copy\n",
      "  df2['Mileage'].replace(['-', '- / -'], np.nan, inplace=True)\n"
     ]
    }
   ],
   "source": [
    "# Replace missing values with NaN\n",
    "df2['Mileage'].replace(['-', '- / -'], np.nan, inplace=True)"
   ]
  },
  {
   "cell_type": "code",
   "execution_count": 47,
   "id": "9d7bf7a0",
   "metadata": {},
   "outputs": [
    {
     "name": "stderr",
     "output_type": "stream",
     "text": [
      "C:\\Users\\DULZZ\\AppData\\Local\\Temp\\ipykernel_10156\\1717817696.py:2: SettingWithCopyWarning: \n",
      "A value is trying to be set on a copy of a slice from a DataFrame.\n",
      "Try using .loc[row_indexer,col_indexer] = value instead\n",
      "\n",
      "See the caveats in the documentation: https://pandas.pydata.org/pandas-docs/stable/user_guide/indexing.html#returning-a-view-versus-a-copy\n",
      "  df2['Mileage'] = df2.apply(lambda x: 0 if x['Condition'] == 'NEW' else x['Mileage'], axis=1)\n"
     ]
    }
   ],
   "source": [
    "# Assign 0 for Mileage when Condition is NEW\n",
    "df2['Mileage'] = df2.apply(lambda x: 0 if x['Condition'] == 'NEW' else x['Mileage'], axis=1)"
   ]
  },
  {
   "cell_type": "code",
   "execution_count": 48,
   "id": "e17722f0",
   "metadata": {},
   "outputs": [
    {
     "data": {
      "text/plain": [
       "7"
      ]
     },
     "execution_count": 48,
     "metadata": {},
     "output_type": "execute_result"
    }
   ],
   "source": [
    "# Check values with Mileage is missing and Condition = 'USED'\n",
    "((df2['Mileage'].isnull()) & (df2['Condition']=='USED')).sum()"
   ]
  },
  {
   "cell_type": "code",
   "execution_count": 49,
   "id": "8255d23d",
   "metadata": {},
   "outputs": [
    {
     "name": "stderr",
     "output_type": "stream",
     "text": [
      "C:\\Users\\DULZZ\\AppData\\Local\\Temp\\ipykernel_10156\\37530964.py:2: SettingWithCopyWarning: \n",
      "A value is trying to be set on a copy of a slice from a DataFrame\n",
      "\n",
      "See the caveats in the documentation: https://pandas.pydata.org/pandas-docs/stable/user_guide/indexing.html#returning-a-view-versus-a-copy\n",
      "  df2.drop(df2[(df2['Mileage'].isnull()) & (df2['Condition']=='USED')].index, axis=0, inplace=True)\n"
     ]
    }
   ],
   "source": [
    "# Drop values with Mileage is missing and Condition = 'USED'\n",
    "df2.drop(df2[(df2['Mileage'].isnull()) & (df2['Condition']=='USED')].index, axis=0, inplace=True)"
   ]
  },
  {
   "cell_type": "code",
   "execution_count": 50,
   "id": "40655d34",
   "metadata": {},
   "outputs": [
    {
     "name": "stderr",
     "output_type": "stream",
     "text": [
      "C:\\Users\\DULZZ\\AppData\\Local\\Temp\\ipykernel_10156\\2744635594.py:2: SettingWithCopyWarning: \n",
      "A value is trying to be set on a copy of a slice from a DataFrame.\n",
      "Try using .loc[row_indexer,col_indexer] = value instead\n",
      "\n",
      "See the caveats in the documentation: https://pandas.pydata.org/pandas-docs/stable/user_guide/indexing.html#returning-a-view-versus-a-copy\n",
      "  df2['Mileage'] = df2['Mileage'].astype(int)\n"
     ]
    }
   ],
   "source": [
    "# Convert data type\n",
    "df2['Mileage'] = df2['Mileage'].astype(int)"
   ]
  },
  {
   "cell_type": "markdown",
   "id": "4cca193f",
   "metadata": {},
   "source": [
    "#### Price"
   ]
  },
  {
   "cell_type": "code",
   "execution_count": 51,
   "id": "5280bb42",
   "metadata": {},
   "outputs": [
    {
     "name": "stderr",
     "output_type": "stream",
     "text": [
      "C:\\Users\\DULZZ\\AppData\\Local\\Temp\\ipykernel_10156\\2460696471.py:2: SettingWithCopyWarning: \n",
      "A value is trying to be set on a copy of a slice from a DataFrame\n",
      "\n",
      "See the caveats in the documentation: https://pandas.pydata.org/pandas-docs/stable/user_guide/indexing.html#returning-a-view-versus-a-copy\n",
      "  df2['Price'].replace('POA', np.nan, inplace=True)\n"
     ]
    }
   ],
   "source": [
    "# Replace missing values with NaN\n",
    "df2['Price'].replace('POA', np.nan, inplace=True)"
   ]
  },
  {
   "cell_type": "code",
   "execution_count": 52,
   "id": "fd1a5fd5",
   "metadata": {},
   "outputs": [
    {
     "data": {
      "text/plain": [
       "26"
      ]
     },
     "execution_count": 52,
     "metadata": {},
     "output_type": "execute_result"
    }
   ],
   "source": [
    "# Check missing values\n",
    "(df2['Price'].isnull()).sum()"
   ]
  },
  {
   "cell_type": "code",
   "execution_count": 53,
   "id": "53f5ede1",
   "metadata": {},
   "outputs": [
    {
     "name": "stderr",
     "output_type": "stream",
     "text": [
      "C:\\Users\\DULZZ\\AppData\\Local\\Temp\\ipykernel_10156\\1359655473.py:2: SettingWithCopyWarning: \n",
      "A value is trying to be set on a copy of a slice from a DataFrame\n",
      "\n",
      "See the caveats in the documentation: https://pandas.pydata.org/pandas-docs/stable/user_guide/indexing.html#returning-a-view-versus-a-copy\n",
      "  df2.dropna(subset='Price', inplace=True)\n"
     ]
    }
   ],
   "source": [
    "# Drop missing values\n",
    "df2.dropna(subset='Price', inplace=True)"
   ]
  },
  {
   "cell_type": "code",
   "execution_count": 54,
   "id": "8d0c01ce",
   "metadata": {},
   "outputs": [
    {
     "name": "stderr",
     "output_type": "stream",
     "text": [
      "C:\\Users\\DULZZ\\AppData\\Local\\Temp\\ipykernel_10156\\1764676764.py:2: SettingWithCopyWarning: \n",
      "A value is trying to be set on a copy of a slice from a DataFrame.\n",
      "Try using .loc[row_indexer,col_indexer] = value instead\n",
      "\n",
      "See the caveats in the documentation: https://pandas.pydata.org/pandas-docs/stable/user_guide/indexing.html#returning-a-view-versus-a-copy\n",
      "  df2['Price'] = df2['Price'].astype(int)\n"
     ]
    }
   ],
   "source": [
    "# Convert data type\n",
    "df2['Price'] = df2['Price'].astype(int)"
   ]
  },
  {
   "cell_type": "markdown",
   "id": "d470536a",
   "metadata": {},
   "source": [
    "## Outliers Handling"
   ]
  },
  {
   "cell_type": "code",
   "execution_count": 55,
   "id": "85733e8e",
   "metadata": {},
   "outputs": [
    {
     "data": {
      "text/html": [
       "<div>\n",
       "<style scoped>\n",
       "    .dataframe tbody tr th:only-of-type {\n",
       "        vertical-align: middle;\n",
       "    }\n",
       "\n",
       "    .dataframe tbody tr th {\n",
       "        vertical-align: top;\n",
       "    }\n",
       "\n",
       "    .dataframe thead th {\n",
       "        text-align: right;\n",
       "    }\n",
       "</style>\n",
       "<table border=\"1\" class=\"dataframe\">\n",
       "  <thead>\n",
       "    <tr style=\"text-align: right;\">\n",
       "      <th></th>\n",
       "      <th>Brand</th>\n",
       "      <th>Year</th>\n",
       "      <th>Condition</th>\n",
       "      <th>Transmission</th>\n",
       "      <th>DriveType</th>\n",
       "      <th>FuelType</th>\n",
       "      <th>BodyType</th>\n",
       "      <th>EngineCapacity</th>\n",
       "      <th>Cylinders</th>\n",
       "      <th>Mileage</th>\n",
       "      <th>Price</th>\n",
       "    </tr>\n",
       "  </thead>\n",
       "  <tbody>\n",
       "    <tr>\n",
       "      <th>1</th>\n",
       "      <td>MG</td>\n",
       "      <td>2022</td>\n",
       "      <td>USED</td>\n",
       "      <td>Automatic</td>\n",
       "      <td>Front</td>\n",
       "      <td>Premium</td>\n",
       "      <td>Hatchback</td>\n",
       "      <td>1500</td>\n",
       "      <td>4</td>\n",
       "      <td>16</td>\n",
       "      <td>19990</td>\n",
       "    </tr>\n",
       "    <tr>\n",
       "      <th>2</th>\n",
       "      <td>BMW</td>\n",
       "      <td>2022</td>\n",
       "      <td>USED</td>\n",
       "      <td>Automatic</td>\n",
       "      <td>Rear</td>\n",
       "      <td>Premium</td>\n",
       "      <td>Coupe</td>\n",
       "      <td>2000</td>\n",
       "      <td>4</td>\n",
       "      <td>8472</td>\n",
       "      <td>108988</td>\n",
       "    </tr>\n",
       "    <tr>\n",
       "      <th>3</th>\n",
       "      <td>Mercedes-Benz</td>\n",
       "      <td>2011</td>\n",
       "      <td>USED</td>\n",
       "      <td>Automatic</td>\n",
       "      <td>Rear</td>\n",
       "      <td>Premium</td>\n",
       "      <td>Coupe</td>\n",
       "      <td>5500</td>\n",
       "      <td>8</td>\n",
       "      <td>136517</td>\n",
       "      <td>32990</td>\n",
       "    </tr>\n",
       "    <tr>\n",
       "      <th>4</th>\n",
       "      <td>Renault</td>\n",
       "      <td>2022</td>\n",
       "      <td>USED</td>\n",
       "      <td>Automatic</td>\n",
       "      <td>Front</td>\n",
       "      <td>Unleaded</td>\n",
       "      <td>SUV</td>\n",
       "      <td>1300</td>\n",
       "      <td>4</td>\n",
       "      <td>1035</td>\n",
       "      <td>34990</td>\n",
       "    </tr>\n",
       "    <tr>\n",
       "      <th>6</th>\n",
       "      <td>Land</td>\n",
       "      <td>2017</td>\n",
       "      <td>USED</td>\n",
       "      <td>Automatic</td>\n",
       "      <td>AWD</td>\n",
       "      <td>Diesel</td>\n",
       "      <td>SUV</td>\n",
       "      <td>2000</td>\n",
       "      <td>4</td>\n",
       "      <td>67662</td>\n",
       "      <td>62280</td>\n",
       "    </tr>\n",
       "  </tbody>\n",
       "</table>\n",
       "</div>"
      ],
      "text/plain": [
       "           Brand  Year Condition Transmission DriveType  FuelType   BodyType  \\\n",
       "1             MG  2022      USED    Automatic     Front   Premium  Hatchback   \n",
       "2            BMW  2022      USED    Automatic      Rear   Premium      Coupe   \n",
       "3  Mercedes-Benz  2011      USED    Automatic      Rear   Premium      Coupe   \n",
       "4        Renault  2022      USED    Automatic     Front  Unleaded        SUV   \n",
       "6           Land  2017      USED    Automatic       AWD    Diesel        SUV   \n",
       "\n",
       "   EngineCapacity  Cylinders  Mileage   Price  \n",
       "1            1500          4       16   19990  \n",
       "2            2000          4     8472  108988  \n",
       "3            5500          8   136517   32990  \n",
       "4            1300          4     1035   34990  \n",
       "6            2000          4    67662   62280  "
      ]
     },
     "execution_count": 55,
     "metadata": {},
     "output_type": "execute_result"
    }
   ],
   "source": [
    "df3 = df2.copy()\n",
    "df3.head()"
   ]
  },
  {
   "cell_type": "code",
   "execution_count": 56,
   "id": "d9c930a4",
   "metadata": {},
   "outputs": [],
   "source": [
    "# define a function to get the outliers\n",
    "\n",
    "def detect_outliers(x):\n",
    "    \n",
    "    outliers = []\n",
    "    \n",
    "    check_list = x.to_numpy()         # get pandas dataframe column to a new list (to avoid the index missing issue)\n",
    "    \n",
    "    q1 = np.quantile(check_list, .25)     # first quantile(25%)\n",
    "    q3 = np.quantile(check_list, .75)     # third quantile(75%)\n",
    "    \n",
    "    iqr = q3-q1                       # inter quantile value\n",
    "    l_bound = q1-iqr*1.5              # lower bound value\n",
    "    u_bound = q3+iqr*1.5              # uper bound value\n",
    "    \n",
    "    for i in range(len(check_list)):\n",
    "        if (check_list[i] < l_bound or check_list[i] > u_bound):\n",
    "            outliers.append(check_list[i])\n",
    "           \n",
    "    return outliers\n",
    "    "
   ]
  },
  {
   "cell_type": "markdown",
   "id": "f6b7eaa6",
   "metadata": {},
   "source": [
    "#### Year"
   ]
  },
  {
   "cell_type": "code",
   "execution_count": 57,
   "id": "a3a62723",
   "metadata": {},
   "outputs": [
    {
     "name": "stderr",
     "output_type": "stream",
     "text": [
      "C:\\Users\\DULZZ\\anaconda3\\lib\\site-packages\\seaborn\\distributions.py:2619: FutureWarning: `distplot` is a deprecated function and will be removed in a future version. Please adapt your code to use either `displot` (a figure-level function with similar flexibility) or `histplot` (an axes-level function for histograms).\n",
      "  warnings.warn(msg, FutureWarning)\n",
      "C:\\Users\\DULZZ\\anaconda3\\lib\\site-packages\\seaborn\\_decorators.py:36: FutureWarning: Pass the following variable as a keyword arg: x. From version 0.12, the only valid positional argument will be `data`, and passing other arguments without an explicit keyword will result in an error or misinterpretation.\n",
      "  warnings.warn(\n"
     ]
    },
    {
     "data": {
      "image/png": "[encoded data removed]",
      "text/plain": [
       "<Figure size 864x360 with 2 Axes>"
      ]
     },
     "metadata": {
      "needs_background": "light"
     },
     "output_type": "display_data"
    }
   ],
   "source": [
    "# visualize outliers\n",
    "fig, axes = plt.subplots(1, 2, figsize=(12, 5))\n",
    "\n",
    "sns.distplot(df3[\"Year\"], ax=axes[0])\n",
    "sns.boxplot(df3[\"Year\"], ax=axes[1])\n",
    "\n",
    "plt.tight_layout()\n",
    "plt.show()"
   ]
  },
  {
   "cell_type": "code",
   "execution_count": 58,
   "id": "7f2735cf",
   "metadata": {},
   "outputs": [
    {
     "data": {
      "text/plain": [
       "[1984,\n",
       " 1985,\n",
       " 1989,\n",
       " 1989,\n",
       " 1989,\n",
       " 1990,\n",
       " 1990,\n",
       " 1990,\n",
       " 1991,\n",
       " 1992,\n",
       " 1993,\n",
       " 1993,\n",
       " 1993,\n",
       " 1994,\n",
       " 1994,\n",
       " 1994,\n",
       " 1994,\n",
       " 1994,\n",
       " 1995,\n",
       " 1996,\n",
       " 1996,\n",
       " 1996,\n",
       " 1996,\n",
       " 1996,\n",
       " 1996,\n",
       " 1997,\n",
       " 1997,\n",
       " 1997,\n",
       " 1998,\n",
       " 1998,\n",
       " 1998,\n",
       " 1998,\n",
       " 1998,\n",
       " 1998,\n",
       " 1998,\n",
       " 1998,\n",
       " 1998,\n",
       " 1998,\n",
       " 1998,\n",
       " 1998,\n",
       " 1998,\n",
       " 1998,\n",
       " 1998,\n",
       " 1999,\n",
       " 1999,\n",
       " 1999,\n",
       " 1999,\n",
       " 1999,\n",
       " 1999,\n",
       " 1999,\n",
       " 1999,\n",
       " 1999,\n",
       " 1999,\n",
       " 1999,\n",
       " 1999,\n",
       " 1999,\n",
       " 1999,\n",
       " 1999,\n",
       " 1999,\n",
       " 1999,\n",
       " 1999,\n",
       " 1999,\n",
       " 1999,\n",
       " 1999,\n",
       " 2000,\n",
       " 2000,\n",
       " 2000,\n",
       " 2000,\n",
       " 2000,\n",
       " 2000,\n",
       " 2000,\n",
       " 2000,\n",
       " 2000,\n",
       " 2000,\n",
       " 2000,\n",
       " 2000,\n",
       " 2000,\n",
       " 2000,\n",
       " 2000,\n",
       " 2000,\n",
       " 2000,\n",
       " 2000,\n",
       " 2000,\n",
       " 2000,\n",
       " 2000,\n",
       " 2000,\n",
       " 2000,\n",
       " 2000,\n",
       " 2000,\n",
       " 2000,\n",
       " 2000,\n",
       " 2000,\n",
       " 2000,\n",
       " 2000,\n",
       " 2001,\n",
       " 2001,\n",
       " 2001,\n",
       " 2001,\n",
       " 2001,\n",
       " 2001,\n",
       " 2001,\n",
       " 2001,\n",
       " 2001,\n",
       " 2001,\n",
       " 2001,\n",
       " 2001,\n",
       " 2001,\n",
       " 2001,\n",
       " 2001,\n",
       " 2001,\n",
       " 2001,\n",
       " 2001,\n",
       " 2001,\n",
       " 2001,\n",
       " 2001,\n",
       " 2001,\n",
       " 2001,\n",
       " 2001,\n",
       " 2001,\n",
       " 2001,\n",
       " 2001,\n",
       " 2001,\n",
       " 2002,\n",
       " 2002,\n",
       " 2002,\n",
       " 2002,\n",
       " 2002,\n",
       " 2002,\n",
       " 2002,\n",
       " 2002,\n",
       " 2002,\n",
       " 2002,\n",
       " 2002,\n",
       " 2002,\n",
       " 2002,\n",
       " 2002,\n",
       " 2002,\n",
       " 2002,\n",
       " 2002,\n",
       " 2002,\n",
       " 2002,\n",
       " 2002,\n",
       " 2002,\n",
       " 2002,\n",
       " 2002,\n",
       " 2002,\n",
       " 2002,\n",
       " 2002,\n",
       " 2002,\n",
       " 2002,\n",
       " 2002,\n",
       " 2002,\n",
       " 2002,\n",
       " 2002,\n",
       " 2002,\n",
       " 2002,\n",
       " 2002,\n",
       " 2002,\n",
       " 2002,\n",
       " 2002,\n",
       " 2002,\n",
       " 2002,\n",
       " 2002,\n",
       " 2002,\n",
       " 2002,\n",
       " 2002,\n",
       " 2002,\n",
       " 2002,\n",
       " 2002,\n",
       " 2002]"
      ]
     },
     "execution_count": 58,
     "metadata": {},
     "output_type": "execute_result"
    }
   ],
   "source": [
    "# Identify outliers\n",
    "year_outliers = sorted(detect_outliers(df3['Year']))\n",
    "year_outliers"
   ]
  },
  {
   "cell_type": "code",
   "execution_count": 59,
   "id": "2607da3e",
   "metadata": {},
   "outputs": [],
   "source": [
    "# Drop rows where the year is before 2000\n",
    "df3.drop(df3[df3['Year']<2000].index, inplace=True)"
   ]
  },
  {
   "cell_type": "code",
   "execution_count": 60,
   "id": "d0820b71",
   "metadata": {},
   "outputs": [
    {
     "name": "stderr",
     "output_type": "stream",
     "text": [
      "C:\\Users\\DULZZ\\anaconda3\\lib\\site-packages\\seaborn\\_decorators.py:36: FutureWarning: Pass the following variable as a keyword arg: x. From version 0.12, the only valid positional argument will be `data`, and passing other arguments without an explicit keyword will result in an error or misinterpretation.\n",
      "  warnings.warn(\n"
     ]
    },
    {
     "data": {
      "text/plain": [
       "<AxesSubplot:xlabel='Year'>"
      ]
     },
     "execution_count": 60,
     "metadata": {},
     "output_type": "execute_result"
    },
    {
     "data": {
      "image/png": "[encoded data removed]",
      "text/plain": [
       "<Figure size 432x288 with 1 Axes>"
      ]
     },
     "metadata": {
      "needs_background": "light"
     },
     "output_type": "display_data"
    }
   ],
   "source": [
    "# visualize after dropping outliers\n",
    "sns.boxplot(df3[\"Year\"])"
   ]
  },
  {
   "cell_type": "markdown",
   "id": "781a7ebd",
   "metadata": {},
   "source": [
    "#### EngineCapacity"
   ]
  },
  {
   "cell_type": "code",
   "execution_count": 61,
   "id": "54d325e8",
   "metadata": {},
   "outputs": [
    {
     "name": "stderr",
     "output_type": "stream",
     "text": [
      "C:\\Users\\DULZZ\\anaconda3\\lib\\site-packages\\seaborn\\_decorators.py:36: FutureWarning: Pass the following variable as a keyword arg: x. From version 0.12, the only valid positional argument will be `data`, and passing other arguments without an explicit keyword will result in an error or misinterpretation.\n",
      "  warnings.warn(\n"
     ]
    },
    {
     "data": {
      "text/plain": [
       "<AxesSubplot:xlabel='EngineCapacity'>"
      ]
     },
     "execution_count": 61,
     "metadata": {},
     "output_type": "execute_result"
    },
    {
     "data": {
      "image/png": "[encoded data removed]",
      "text/plain": [
       "<Figure size 432x288 with 1 Axes>"
      ]
     },
     "metadata": {
      "needs_background": "light"
     },
     "output_type": "display_data"
    }
   ],
   "source": [
    "# visualize outliers\n",
    "sns.boxplot(df3['EngineCapacity'])"
   ]
  },
  {
   "cell_type": "code",
   "execution_count": 62,
   "id": "25e8ffd1",
   "metadata": {},
   "outputs": [
    {
     "data": {
      "text/html": [
       "<div>\n",
       "<style scoped>\n",
       "    .dataframe tbody tr th:only-of-type {\n",
       "        vertical-align: middle;\n",
       "    }\n",
       "\n",
       "    .dataframe tbody tr th {\n",
       "        vertical-align: top;\n",
       "    }\n",
       "\n",
       "    .dataframe thead th {\n",
       "        text-align: right;\n",
       "    }\n",
       "</style>\n",
       "<table border=\"1\" class=\"dataframe\">\n",
       "  <thead>\n",
       "    <tr style=\"text-align: right;\">\n",
       "      <th></th>\n",
       "      <th>Brand</th>\n",
       "      <th>Year</th>\n",
       "      <th>Condition</th>\n",
       "      <th>Transmission</th>\n",
       "      <th>DriveType</th>\n",
       "      <th>FuelType</th>\n",
       "      <th>BodyType</th>\n",
       "      <th>EngineCapacity</th>\n",
       "      <th>Cylinders</th>\n",
       "      <th>Mileage</th>\n",
       "      <th>Price</th>\n",
       "    </tr>\n",
       "  </thead>\n",
       "  <tbody>\n",
       "    <tr>\n",
       "      <th>3794</th>\n",
       "      <td>Ford</td>\n",
       "      <td>2002</td>\n",
       "      <td>USED</td>\n",
       "      <td>Automatic</td>\n",
       "      <td>4WD</td>\n",
       "      <td>Diesel</td>\n",
       "      <td>Ute Tray</td>\n",
       "      <td>7300</td>\n",
       "      <td>8</td>\n",
       "      <td>179999</td>\n",
       "      <td>79900</td>\n",
       "    </tr>\n",
       "    <tr>\n",
       "      <th>14922</th>\n",
       "      <td>Isuzu</td>\n",
       "      <td>2023</td>\n",
       "      <td>NEW</td>\n",
       "      <td>Automatic</td>\n",
       "      <td>4WD</td>\n",
       "      <td>Diesel</td>\n",
       "      <td>Ute Tray</td>\n",
       "      <td>7800</td>\n",
       "      <td>6</td>\n",
       "      <td>0</td>\n",
       "      <td>210992</td>\n",
       "    </tr>\n",
       "    <tr>\n",
       "      <th>14961</th>\n",
       "      <td>Isuzu</td>\n",
       "      <td>2023</td>\n",
       "      <td>NEW</td>\n",
       "      <td>Manual</td>\n",
       "      <td>Rear</td>\n",
       "      <td>Diesel</td>\n",
       "      <td>Ute Tray</td>\n",
       "      <td>9800</td>\n",
       "      <td>6</td>\n",
       "      <td>0</td>\n",
       "      <td>240754</td>\n",
       "    </tr>\n",
       "    <tr>\n",
       "      <th>14982</th>\n",
       "      <td>Isuzu</td>\n",
       "      <td>2023</td>\n",
       "      <td>NEW</td>\n",
       "      <td>Automatic</td>\n",
       "      <td>Rear</td>\n",
       "      <td>Diesel</td>\n",
       "      <td>Ute Tray</td>\n",
       "      <td>7800</td>\n",
       "      <td>6</td>\n",
       "      <td>0</td>\n",
       "      <td>184564</td>\n",
       "    </tr>\n",
       "    <tr>\n",
       "      <th>15137</th>\n",
       "      <td>Isuzu</td>\n",
       "      <td>2023</td>\n",
       "      <td>NEW</td>\n",
       "      <td>Automatic</td>\n",
       "      <td>Rear</td>\n",
       "      <td>Diesel</td>\n",
       "      <td>Ute Tray</td>\n",
       "      <td>7800</td>\n",
       "      <td>6</td>\n",
       "      <td>0</td>\n",
       "      <td>221527</td>\n",
       "    </tr>\n",
       "    <tr>\n",
       "      <th>15145</th>\n",
       "      <td>Isuzu</td>\n",
       "      <td>2023</td>\n",
       "      <td>NEW</td>\n",
       "      <td>Automatic</td>\n",
       "      <td>Rear</td>\n",
       "      <td>Diesel</td>\n",
       "      <td>Ute Tray</td>\n",
       "      <td>9800</td>\n",
       "      <td>6</td>\n",
       "      <td>0</td>\n",
       "      <td>293131</td>\n",
       "    </tr>\n",
       "    <tr>\n",
       "      <th>15179</th>\n",
       "      <td>Isuzu</td>\n",
       "      <td>2023</td>\n",
       "      <td>NEW</td>\n",
       "      <td>Automatic</td>\n",
       "      <td>Rear</td>\n",
       "      <td>Diesel</td>\n",
       "      <td>Ute Tray</td>\n",
       "      <td>7800</td>\n",
       "      <td>6</td>\n",
       "      <td>0</td>\n",
       "      <td>197239</td>\n",
       "    </tr>\n",
       "    <tr>\n",
       "      <th>15193</th>\n",
       "      <td>Isuzu</td>\n",
       "      <td>2023</td>\n",
       "      <td>NEW</td>\n",
       "      <td>Manual</td>\n",
       "      <td>Rear</td>\n",
       "      <td>Diesel</td>\n",
       "      <td>Ute Tray</td>\n",
       "      <td>7800</td>\n",
       "      <td>6</td>\n",
       "      <td>0</td>\n",
       "      <td>138457</td>\n",
       "    </tr>\n",
       "    <tr>\n",
       "      <th>15198</th>\n",
       "      <td>Isuzu</td>\n",
       "      <td>2023</td>\n",
       "      <td>NEW</td>\n",
       "      <td>Manual</td>\n",
       "      <td>Rear</td>\n",
       "      <td>Diesel</td>\n",
       "      <td>Ute Tray</td>\n",
       "      <td>7800</td>\n",
       "      <td>6</td>\n",
       "      <td>0</td>\n",
       "      <td>195100</td>\n",
       "    </tr>\n",
       "    <tr>\n",
       "      <th>15328</th>\n",
       "      <td>Isuzu</td>\n",
       "      <td>2023</td>\n",
       "      <td>NEW</td>\n",
       "      <td>Automatic</td>\n",
       "      <td>Rear</td>\n",
       "      <td>Diesel</td>\n",
       "      <td>Ute Tray</td>\n",
       "      <td>7800</td>\n",
       "      <td>6</td>\n",
       "      <td>0</td>\n",
       "      <td>131088</td>\n",
       "    </tr>\n",
       "    <tr>\n",
       "      <th>15422</th>\n",
       "      <td>Isuzu</td>\n",
       "      <td>2023</td>\n",
       "      <td>NEW</td>\n",
       "      <td>Manual</td>\n",
       "      <td>Rear</td>\n",
       "      <td>Diesel</td>\n",
       "      <td>Ute Tray</td>\n",
       "      <td>7800</td>\n",
       "      <td>6</td>\n",
       "      <td>0</td>\n",
       "      <td>118387</td>\n",
       "    </tr>\n",
       "    <tr>\n",
       "      <th>15427</th>\n",
       "      <td>Isuzu</td>\n",
       "      <td>2023</td>\n",
       "      <td>NEW</td>\n",
       "      <td>Manual</td>\n",
       "      <td>Rear</td>\n",
       "      <td>Diesel</td>\n",
       "      <td>Ute Tray</td>\n",
       "      <td>7800</td>\n",
       "      <td>6</td>\n",
       "      <td>0</td>\n",
       "      <td>120188</td>\n",
       "    </tr>\n",
       "  </tbody>\n",
       "</table>\n",
       "</div>"
      ],
      "text/plain": [
       "       Brand  Year Condition Transmission DriveType FuelType  BodyType  \\\n",
       "3794    Ford  2002      USED    Automatic       4WD   Diesel  Ute Tray   \n",
       "14922  Isuzu  2023       NEW    Automatic       4WD   Diesel  Ute Tray   \n",
       "14961  Isuzu  2023       NEW       Manual      Rear   Diesel  Ute Tray   \n",
       "14982  Isuzu  2023       NEW    Automatic      Rear   Diesel  Ute Tray   \n",
       "15137  Isuzu  2023       NEW    Automatic      Rear   Diesel  Ute Tray   \n",
       "15145  Isuzu  2023       NEW    Automatic      Rear   Diesel  Ute Tray   \n",
       "15179  Isuzu  2023       NEW    Automatic      Rear   Diesel  Ute Tray   \n",
       "15193  Isuzu  2023       NEW       Manual      Rear   Diesel  Ute Tray   \n",
       "15198  Isuzu  2023       NEW       Manual      Rear   Diesel  Ute Tray   \n",
       "15328  Isuzu  2023       NEW    Automatic      Rear   Diesel  Ute Tray   \n",
       "15422  Isuzu  2023       NEW       Manual      Rear   Diesel  Ute Tray   \n",
       "15427  Isuzu  2023       NEW       Manual      Rear   Diesel  Ute Tray   \n",
       "\n",
       "       EngineCapacity  Cylinders  Mileage   Price  \n",
       "3794             7300          8   179999   79900  \n",
       "14922            7800          6        0  210992  \n",
       "14961            9800          6        0  240754  \n",
       "14982            7800          6        0  184564  \n",
       "15137            7800          6        0  221527  \n",
       "15145            9800          6        0  293131  \n",
       "15179            7800          6        0  197239  \n",
       "15193            7800          6        0  138457  \n",
       "15198            7800          6        0  195100  \n",
       "15328            7800          6        0  131088  \n",
       "15422            7800          6        0  118387  \n",
       "15427            7800          6        0  120188  "
      ]
     },
     "execution_count": 62,
     "metadata": {},
     "output_type": "execute_result"
    }
   ],
   "source": [
    "# rows with EngineCapacity > 7000\n",
    "df3[df3['EngineCapacity']>7000]"
   ]
  },
  {
   "cell_type": "code",
   "execution_count": 63,
   "id": "9f65a460",
   "metadata": {},
   "outputs": [],
   "source": [
    "# Remove rows with EngineCapacity > 7000\n",
    "df3.drop(df3[df3['EngineCapacity']>7000].index, inplace=True)"
   ]
  },
  {
   "cell_type": "code",
   "execution_count": 64,
   "id": "ffde22db",
   "metadata": {},
   "outputs": [
    {
     "name": "stderr",
     "output_type": "stream",
     "text": [
      "C:\\Users\\DULZZ\\anaconda3\\lib\\site-packages\\seaborn\\_decorators.py:36: FutureWarning: Pass the following variable as a keyword arg: x. From version 0.12, the only valid positional argument will be `data`, and passing other arguments without an explicit keyword will result in an error or misinterpretation.\n",
      "  warnings.warn(\n"
     ]
    },
    {
     "data": {
      "text/plain": [
       "<AxesSubplot:xlabel='EngineCapacity'>"
      ]
     },
     "execution_count": 64,
     "metadata": {},
     "output_type": "execute_result"
    },
    {
     "data": {
      "image/png": "[encoded data removed]",
      "text/plain": [
       "<Figure size 432x288 with 1 Axes>"
      ]
     },
     "metadata": {
      "needs_background": "light"
     },
     "output_type": "display_data"
    }
   ],
   "source": [
    "# visualize after dropping outliers\n",
    "sns.boxplot(df3[\"EngineCapacity\"])"
   ]
  },
  {
   "cell_type": "markdown",
   "id": "d589a629",
   "metadata": {},
   "source": [
    "#### Cylinders"
   ]
  },
  {
   "cell_type": "code",
   "execution_count": 65,
   "id": "bee90f79",
   "metadata": {},
   "outputs": [
    {
     "name": "stderr",
     "output_type": "stream",
     "text": [
      "C:\\Users\\DULZZ\\anaconda3\\lib\\site-packages\\seaborn\\_decorators.py:36: FutureWarning: Pass the following variable as a keyword arg: x. From version 0.12, the only valid positional argument will be `data`, and passing other arguments without an explicit keyword will result in an error or misinterpretation.\n",
      "  warnings.warn(\n"
     ]
    },
    {
     "data": {
      "text/plain": [
       "<AxesSubplot:xlabel='Cylinders'>"
      ]
     },
     "execution_count": 65,
     "metadata": {},
     "output_type": "execute_result"
    },
    {
     "data": {
      "image/png": "[encoded data removed]",
      "text/plain": [
       "<Figure size 432x288 with 1 Axes>"
      ]
     },
     "metadata": {
      "needs_background": "light"
     },
     "output_type": "display_data"
    }
   ],
   "source": [
    "#  Visualize outliers\n",
    "sns.boxplot(df3['Cylinders'])"
   ]
  },
  {
   "cell_type": "markdown",
   "id": "142bda3d",
   "metadata": {},
   "source": [
    "#### Mileage"
   ]
  },
  {
   "cell_type": "code",
   "execution_count": 66,
   "id": "81c5da55",
   "metadata": {},
   "outputs": [
    {
     "name": "stderr",
     "output_type": "stream",
     "text": [
      "C:\\Users\\DULZZ\\anaconda3\\lib\\site-packages\\seaborn\\distributions.py:2619: FutureWarning: `distplot` is a deprecated function and will be removed in a future version. Please adapt your code to use either `displot` (a figure-level function with similar flexibility) or `histplot` (an axes-level function for histograms).\n",
      "  warnings.warn(msg, FutureWarning)\n",
      "C:\\Users\\DULZZ\\anaconda3\\lib\\site-packages\\seaborn\\_decorators.py:36: FutureWarning: Pass the following variable as a keyword arg: x. From version 0.12, the only valid positional argument will be `data`, and passing other arguments without an explicit keyword will result in an error or misinterpretation.\n",
      "  warnings.warn(\n"
     ]
    },
    {
     "data": {
      "image/png": "[encoded data removed]",
      "text/plain": [
       "<Figure size 864x360 with 2 Axes>"
      ]
     },
     "metadata": {
      "needs_background": "light"
     },
     "output_type": "display_data"
    }
   ],
   "source": [
    "# Visualize outliers\n",
    "fig, axes = plt.subplots(1, 2, figsize=(12, 5))\n",
    "\n",
    "sns.distplot(df3[\"Mileage\"], ax=axes[0])\n",
    "sns.boxplot(df3[\"Mileage\"], ax=axes[1])\n",
    "\n",
    "plt.tight_layout()\n",
    "plt.show()"
   ]
  },
  {
   "cell_type": "code",
   "execution_count": 67,
   "id": "f482bc6d",
   "metadata": {},
   "outputs": [
    {
     "data": {
      "text/html": [
       "<div>\n",
       "<style scoped>\n",
       "    .dataframe tbody tr th:only-of-type {\n",
       "        vertical-align: middle;\n",
       "    }\n",
       "\n",
       "    .dataframe tbody tr th {\n",
       "        vertical-align: top;\n",
       "    }\n",
       "\n",
       "    .dataframe thead th {\n",
       "        text-align: right;\n",
       "    }\n",
       "</style>\n",
       "<table border=\"1\" class=\"dataframe\">\n",
       "  <thead>\n",
       "    <tr style=\"text-align: right;\">\n",
       "      <th></th>\n",
       "      <th>Brand</th>\n",
       "      <th>Year</th>\n",
       "      <th>Condition</th>\n",
       "      <th>Transmission</th>\n",
       "      <th>DriveType</th>\n",
       "      <th>FuelType</th>\n",
       "      <th>BodyType</th>\n",
       "      <th>EngineCapacity</th>\n",
       "      <th>Cylinders</th>\n",
       "      <th>Mileage</th>\n",
       "      <th>Price</th>\n",
       "    </tr>\n",
       "  </thead>\n",
       "  <tbody>\n",
       "    <tr>\n",
       "      <th>1</th>\n",
       "      <td>MG</td>\n",
       "      <td>2022</td>\n",
       "      <td>USED</td>\n",
       "      <td>Automatic</td>\n",
       "      <td>Front</td>\n",
       "      <td>Premium</td>\n",
       "      <td>Hatchback</td>\n",
       "      <td>1500</td>\n",
       "      <td>4</td>\n",
       "      <td>16</td>\n",
       "      <td>19990</td>\n",
       "    </tr>\n",
       "    <tr>\n",
       "      <th>22</th>\n",
       "      <td>Volkswagen</td>\n",
       "      <td>2023</td>\n",
       "      <td>NEW</td>\n",
       "      <td>Automatic</td>\n",
       "      <td>AWD</td>\n",
       "      <td>Diesel</td>\n",
       "      <td>Ute Tray</td>\n",
       "      <td>3000</td>\n",
       "      <td>6</td>\n",
       "      <td>0</td>\n",
       "      <td>83887</td>\n",
       "    </tr>\n",
       "    <tr>\n",
       "      <th>71</th>\n",
       "      <td>Volkswagen</td>\n",
       "      <td>2023</td>\n",
       "      <td>NEW</td>\n",
       "      <td>Automatic</td>\n",
       "      <td>AWD</td>\n",
       "      <td>Premium</td>\n",
       "      <td>SUV</td>\n",
       "      <td>2000</td>\n",
       "      <td>4</td>\n",
       "      <td>0</td>\n",
       "      <td>56887</td>\n",
       "    </tr>\n",
       "    <tr>\n",
       "      <th>482</th>\n",
       "      <td>MG</td>\n",
       "      <td>2022</td>\n",
       "      <td>NEW</td>\n",
       "      <td>Automatic</td>\n",
       "      <td>Front</td>\n",
       "      <td>Premium</td>\n",
       "      <td>Hatchback</td>\n",
       "      <td>1500</td>\n",
       "      <td>4</td>\n",
       "      <td>0</td>\n",
       "      <td>19490</td>\n",
       "    </tr>\n",
       "    <tr>\n",
       "      <th>898</th>\n",
       "      <td>Mazda</td>\n",
       "      <td>2023</td>\n",
       "      <td>NEW</td>\n",
       "      <td>Automatic</td>\n",
       "      <td>Front</td>\n",
       "      <td>Unleaded</td>\n",
       "      <td>SUV</td>\n",
       "      <td>2000</td>\n",
       "      <td>4</td>\n",
       "      <td>0</td>\n",
       "      <td>42288</td>\n",
       "    </tr>\n",
       "    <tr>\n",
       "      <th>...</th>\n",
       "      <td>...</td>\n",
       "      <td>...</td>\n",
       "      <td>...</td>\n",
       "      <td>...</td>\n",
       "      <td>...</td>\n",
       "      <td>...</td>\n",
       "      <td>...</td>\n",
       "      <td>...</td>\n",
       "      <td>...</td>\n",
       "      <td>...</td>\n",
       "      <td>...</td>\n",
       "    </tr>\n",
       "    <tr>\n",
       "      <th>16649</th>\n",
       "      <td>Mazda</td>\n",
       "      <td>2023</td>\n",
       "      <td>NEW</td>\n",
       "      <td>Automatic</td>\n",
       "      <td>Front</td>\n",
       "      <td>Unleaded</td>\n",
       "      <td>SUV</td>\n",
       "      <td>2500</td>\n",
       "      <td>4</td>\n",
       "      <td>0</td>\n",
       "      <td>69200</td>\n",
       "    </tr>\n",
       "    <tr>\n",
       "      <th>16651</th>\n",
       "      <td>Suzuki</td>\n",
       "      <td>2022</td>\n",
       "      <td>NEW</td>\n",
       "      <td>Automatic</td>\n",
       "      <td>Front</td>\n",
       "      <td>Unleaded</td>\n",
       "      <td>Hatchback</td>\n",
       "      <td>1200</td>\n",
       "      <td>4</td>\n",
       "      <td>0</td>\n",
       "      <td>27690</td>\n",
       "    </tr>\n",
       "    <tr>\n",
       "      <th>16654</th>\n",
       "      <td>Hyundai</td>\n",
       "      <td>2023</td>\n",
       "      <td>NEW</td>\n",
       "      <td>Automatic</td>\n",
       "      <td>Front</td>\n",
       "      <td>Unleaded</td>\n",
       "      <td>SUV</td>\n",
       "      <td>2000</td>\n",
       "      <td>4</td>\n",
       "      <td>0</td>\n",
       "      <td>44360</td>\n",
       "    </tr>\n",
       "    <tr>\n",
       "      <th>16661</th>\n",
       "      <td>Hyundai</td>\n",
       "      <td>2023</td>\n",
       "      <td>NEW</td>\n",
       "      <td>Automatic</td>\n",
       "      <td>Front</td>\n",
       "      <td>Premium</td>\n",
       "      <td>SUV</td>\n",
       "      <td>2000</td>\n",
       "      <td>4</td>\n",
       "      <td>0</td>\n",
       "      <td>57600</td>\n",
       "    </tr>\n",
       "    <tr>\n",
       "      <th>16700</th>\n",
       "      <td>Renault</td>\n",
       "      <td>2023</td>\n",
       "      <td>NEW</td>\n",
       "      <td>Automatic</td>\n",
       "      <td>Front</td>\n",
       "      <td>Diesel</td>\n",
       "      <td>Commercial</td>\n",
       "      <td>2000</td>\n",
       "      <td>4</td>\n",
       "      <td>0</td>\n",
       "      <td>57285</td>\n",
       "    </tr>\n",
       "  </tbody>\n",
       "</table>\n",
       "<p>720 rows × 11 columns</p>\n",
       "</div>"
      ],
      "text/plain": [
       "            Brand  Year Condition Transmission DriveType  FuelType  \\\n",
       "1              MG  2022      USED    Automatic     Front   Premium   \n",
       "22     Volkswagen  2023       NEW    Automatic       AWD    Diesel   \n",
       "71     Volkswagen  2023       NEW    Automatic       AWD   Premium   \n",
       "482            MG  2022       NEW    Automatic     Front   Premium   \n",
       "898         Mazda  2023       NEW    Automatic     Front  Unleaded   \n",
       "...           ...   ...       ...          ...       ...       ...   \n",
       "16649       Mazda  2023       NEW    Automatic     Front  Unleaded   \n",
       "16651      Suzuki  2022       NEW    Automatic     Front  Unleaded   \n",
       "16654     Hyundai  2023       NEW    Automatic     Front  Unleaded   \n",
       "16661     Hyundai  2023       NEW    Automatic     Front   Premium   \n",
       "16700     Renault  2023       NEW    Automatic     Front    Diesel   \n",
       "\n",
       "         BodyType  EngineCapacity  Cylinders  Mileage  Price  \n",
       "1       Hatchback            1500          4       16  19990  \n",
       "22       Ute Tray            3000          6        0  83887  \n",
       "71            SUV            2000          4        0  56887  \n",
       "482     Hatchback            1500          4        0  19490  \n",
       "898           SUV            2000          4        0  42288  \n",
       "...           ...             ...        ...      ...    ...  \n",
       "16649         SUV            2500          4        0  69200  \n",
       "16651   Hatchback            1200          4        0  27690  \n",
       "16654         SUV            2000          4        0  44360  \n",
       "16661         SUV            2000          4        0  57600  \n",
       "16700  Commercial            2000          4        0  57285  \n",
       "\n",
       "[720 rows x 11 columns]"
      ]
     },
     "execution_count": 67,
     "metadata": {},
     "output_type": "execute_result"
    }
   ],
   "source": [
    "# rows with Mileage < 20km\n",
    "df3[df3['Mileage']<20]"
   ]
  },
  {
   "cell_type": "code",
   "execution_count": 68,
   "id": "ec032861",
   "metadata": {},
   "outputs": [],
   "source": [
    "# Remove rows with Mileage < 50km\n",
    "df3.drop(df3[df3['Mileage']<20].index, inplace=True)"
   ]
  },
  {
   "cell_type": "markdown",
   "id": "237bf7fd",
   "metadata": {},
   "source": [
    "#### Price"
   ]
  },
  {
   "cell_type": "code",
   "execution_count": 69,
   "id": "d6b2f8a7",
   "metadata": {},
   "outputs": [
    {
     "name": "stderr",
     "output_type": "stream",
     "text": [
      "C:\\Users\\DULZZ\\anaconda3\\lib\\site-packages\\seaborn\\distributions.py:2619: FutureWarning: `distplot` is a deprecated function and will be removed in a future version. Please adapt your code to use either `displot` (a figure-level function with similar flexibility) or `histplot` (an axes-level function for histograms).\n",
      "  warnings.warn(msg, FutureWarning)\n",
      "C:\\Users\\DULZZ\\anaconda3\\lib\\site-packages\\seaborn\\_decorators.py:36: FutureWarning: Pass the following variable as a keyword arg: x. From version 0.12, the only valid positional argument will be `data`, and passing other arguments without an explicit keyword will result in an error or misinterpretation.\n",
      "  warnings.warn(\n"
     ]
    },
    {
     "data": {
      "image/png": "[encoded data removed]",
      "text/plain": [
       "<Figure size 864x360 with 2 Axes>"
      ]
     },
     "metadata": {
      "needs_background": "light"
     },
     "output_type": "display_data"
    }
   ],
   "source": [
    "# Visualize outliers\n",
    "\n",
    "fig, axes = plt.subplots(1, 2, figsize=(12, 5))\n",
    "\n",
    "sns.distplot(df3[\"Price\"], ax=axes[0])\n",
    "sns.boxplot(df3[\"Price\"], ax=axes[1])\n",
    "\n",
    "plt.tight_layout()\n",
    "plt.show()"
   ]
  },
  {
   "cell_type": "code",
   "execution_count": 70,
   "id": "858b76e8",
   "metadata": {},
   "outputs": [
    {
     "data": {
      "text/html": [
       "<div>\n",
       "<style scoped>\n",
       "    .dataframe tbody tr th:only-of-type {\n",
       "        vertical-align: middle;\n",
       "    }\n",
       "\n",
       "    .dataframe tbody tr th {\n",
       "        vertical-align: top;\n",
       "    }\n",
       "\n",
       "    .dataframe thead th {\n",
       "        text-align: right;\n",
       "    }\n",
       "</style>\n",
       "<table border=\"1\" class=\"dataframe\">\n",
       "  <thead>\n",
       "    <tr style=\"text-align: right;\">\n",
       "      <th></th>\n",
       "      <th>Brand</th>\n",
       "      <th>Year</th>\n",
       "      <th>Condition</th>\n",
       "      <th>Transmission</th>\n",
       "      <th>DriveType</th>\n",
       "      <th>FuelType</th>\n",
       "      <th>BodyType</th>\n",
       "      <th>EngineCapacity</th>\n",
       "      <th>Cylinders</th>\n",
       "      <th>Mileage</th>\n",
       "      <th>Price</th>\n",
       "    </tr>\n",
       "  </thead>\n",
       "  <tbody>\n",
       "  </tbody>\n",
       "</table>\n",
       "</div>"
      ],
      "text/plain": [
       "Empty DataFrame\n",
       "Columns: [Brand, Year, Condition, Transmission, DriveType, FuelType, BodyType, EngineCapacity, Cylinders, Mileage, Price]\n",
       "Index: []"
      ]
     },
     "execution_count": 70,
     "metadata": {},
     "output_type": "execute_result"
    }
   ],
   "source": [
    "# rows with Price < $500\n",
    "df3[df3['Price']<500]"
   ]
  },
  {
   "cell_type": "code",
   "execution_count": 71,
   "id": "bb41f839",
   "metadata": {},
   "outputs": [],
   "source": [
    "# Remove rows with Price < $500\n",
    "df3.drop(df3[df3['Price']<500].index, inplace=True)"
   ]
  },
  {
   "cell_type": "markdown",
   "id": "3dc0090e",
   "metadata": {},
   "source": [
    "#### Brand"
   ]
  },
  {
   "cell_type": "code",
   "execution_count": 72,
   "id": "8d7a43c0",
   "metadata": {},
   "outputs": [
    {
     "data": {
      "text/plain": [
       "<AxesSubplot:xlabel='Price', ylabel='Brand'>"
      ]
     },
     "execution_count": 72,
     "metadata": {},
     "output_type": "execute_result"
    },
    {
     "data": {
      "image/png": "[encoded data removed]",
      "text/plain": [
       "<Figure size 720x864 with 1 Axes>"
      ]
     },
     "metadata": {
      "needs_background": "light"
     },
     "output_type": "display_data"
    }
   ],
   "source": [
    "# Visualize outliers\n",
    "plt.figure(figsize=(10,12))\n",
    "plt.xticks(range(0, 500000, 50000))\n",
    "sns.boxplot(data=df3, x='Price', y='Brand')\n"
   ]
  },
  {
   "cell_type": "code",
   "execution_count": 73,
   "id": "7b0b817a",
   "metadata": {},
   "outputs": [],
   "source": [
    "# define a function for return indexes of the outliers of Brand\n",
    "# here, values which are not in 3 x interquantile_range supposed as outliers\n",
    "\n",
    "def brand_outliers():\n",
    "    \n",
    "    outlier_index_list = []\n",
    "    \n",
    "    \n",
    "    for i in df3.index:\n",
    "        \n",
    "        price_list = df3[df3['Brand']==df3.loc[i]['Brand']]['Price']\n",
    "        \n",
    "        \n",
    "        q1 = np.quantile(price_list, .25)     # first quantile(25%)\n",
    "        q3 = np.quantile(price_list, .75)     # third quantile(75%)\n",
    "    \n",
    "        iqr = q3-q1                    # inter quantile value\n",
    "        l_bound = q1-iqr*3             # lower bound value\n",
    "        u_bound = q3+iqr*3             # uper bound value\n",
    "        \n",
    "        if (df3.loc[i]['Price'] < l_bound or df3.loc[i]['Price'] > u_bound):\n",
    "            outlier_index_list.append(i)\n",
    "    \n",
    "    return outlier_index_list\n",
    "\n",
    "\n",
    "brand_outlier_list = brand_outliers() # Apply function\n",
    "    "
   ]
  },
  {
   "cell_type": "code",
   "execution_count": 74,
   "id": "4688af57",
   "metadata": {},
   "outputs": [
    {
     "data": {
      "text/plain": [
       "91"
      ]
     },
     "execution_count": 74,
     "metadata": {},
     "output_type": "execute_result"
    }
   ],
   "source": [
    "# number of outliers\n",
    "len(brand_outlier_list)"
   ]
  },
  {
   "cell_type": "code",
   "execution_count": 75,
   "id": "d7c5e109",
   "metadata": {},
   "outputs": [],
   "source": [
    "# remove outliers\n",
    "df3.drop(brand_outlier_list, axis=0, inplace=True)"
   ]
  },
  {
   "cell_type": "code",
   "execution_count": 76,
   "id": "d136fa0a",
   "metadata": {},
   "outputs": [
    {
     "data": {
      "text/plain": [
       "<AxesSubplot:xlabel='Price', ylabel='Brand'>"
      ]
     },
     "execution_count": 76,
     "metadata": {},
     "output_type": "execute_result"
    },
    {
     "data": {
      "image/png": "[encoded data removed]",
      "text/plain": [
       "<Figure size 720x864 with 1 Axes>"
      ]
     },
     "metadata": {
      "needs_background": "light"
     },
     "output_type": "display_data"
    }
   ],
   "source": [
    "# visualize after dropping outliers\n",
    "plt.figure(figsize=(10,12))\n",
    "plt.xticks(range(0, 500000, 50000))\n",
    "sns.boxplot(data=df3, x='Price', y='Brand')"
   ]
  },
  {
   "cell_type": "markdown",
   "id": "c66e3aca",
   "metadata": {},
   "source": [
    "## Feature Encording"
   ]
  },
  {
   "cell_type": "code",
   "execution_count": 77,
   "id": "5b60ea0f",
   "metadata": {},
   "outputs": [
    {
     "data": {
      "text/html": [
       "<div>\n",
       "<style scoped>\n",
       "    .dataframe tbody tr th:only-of-type {\n",
       "        vertical-align: middle;\n",
       "    }\n",
       "\n",
       "    .dataframe tbody tr th {\n",
       "        vertical-align: top;\n",
       "    }\n",
       "\n",
       "    .dataframe thead th {\n",
       "        text-align: right;\n",
       "    }\n",
       "</style>\n",
       "<table border=\"1\" class=\"dataframe\">\n",
       "  <thead>\n",
       "    <tr style=\"text-align: right;\">\n",
       "      <th></th>\n",
       "      <th>Brand</th>\n",
       "      <th>Year</th>\n",
       "      <th>Condition</th>\n",
       "      <th>Transmission</th>\n",
       "      <th>DriveType</th>\n",
       "      <th>FuelType</th>\n",
       "      <th>BodyType</th>\n",
       "      <th>EngineCapacity</th>\n",
       "      <th>Cylinders</th>\n",
       "      <th>Mileage</th>\n",
       "      <th>Price</th>\n",
       "    </tr>\n",
       "  </thead>\n",
       "  <tbody>\n",
       "    <tr>\n",
       "      <th>2</th>\n",
       "      <td>BMW</td>\n",
       "      <td>2022</td>\n",
       "      <td>USED</td>\n",
       "      <td>Automatic</td>\n",
       "      <td>Rear</td>\n",
       "      <td>Premium</td>\n",
       "      <td>Coupe</td>\n",
       "      <td>2000</td>\n",
       "      <td>4</td>\n",
       "      <td>8472</td>\n",
       "      <td>108988</td>\n",
       "    </tr>\n",
       "    <tr>\n",
       "      <th>3</th>\n",
       "      <td>Mercedes-Benz</td>\n",
       "      <td>2011</td>\n",
       "      <td>USED</td>\n",
       "      <td>Automatic</td>\n",
       "      <td>Rear</td>\n",
       "      <td>Premium</td>\n",
       "      <td>Coupe</td>\n",
       "      <td>5500</td>\n",
       "      <td>8</td>\n",
       "      <td>136517</td>\n",
       "      <td>32990</td>\n",
       "    </tr>\n",
       "    <tr>\n",
       "      <th>4</th>\n",
       "      <td>Renault</td>\n",
       "      <td>2022</td>\n",
       "      <td>USED</td>\n",
       "      <td>Automatic</td>\n",
       "      <td>Front</td>\n",
       "      <td>Unleaded</td>\n",
       "      <td>SUV</td>\n",
       "      <td>1300</td>\n",
       "      <td>4</td>\n",
       "      <td>1035</td>\n",
       "      <td>34990</td>\n",
       "    </tr>\n",
       "    <tr>\n",
       "      <th>6</th>\n",
       "      <td>Land</td>\n",
       "      <td>2017</td>\n",
       "      <td>USED</td>\n",
       "      <td>Automatic</td>\n",
       "      <td>AWD</td>\n",
       "      <td>Diesel</td>\n",
       "      <td>SUV</td>\n",
       "      <td>2000</td>\n",
       "      <td>4</td>\n",
       "      <td>67662</td>\n",
       "      <td>62280</td>\n",
       "    </tr>\n",
       "    <tr>\n",
       "      <th>7</th>\n",
       "      <td>Nissan</td>\n",
       "      <td>2000</td>\n",
       "      <td>USED</td>\n",
       "      <td>Automatic</td>\n",
       "      <td>Front</td>\n",
       "      <td>Unleaded</td>\n",
       "      <td>Hatchback</td>\n",
       "      <td>1600</td>\n",
       "      <td>4</td>\n",
       "      <td>300539</td>\n",
       "      <td>2995</td>\n",
       "    </tr>\n",
       "  </tbody>\n",
       "</table>\n",
       "</div>"
      ],
      "text/plain": [
       "           Brand  Year Condition Transmission DriveType  FuelType   BodyType  \\\n",
       "2            BMW  2022      USED    Automatic      Rear   Premium      Coupe   \n",
       "3  Mercedes-Benz  2011      USED    Automatic      Rear   Premium      Coupe   \n",
       "4        Renault  2022      USED    Automatic     Front  Unleaded        SUV   \n",
       "6           Land  2017      USED    Automatic       AWD    Diesel        SUV   \n",
       "7         Nissan  2000      USED    Automatic     Front  Unleaded  Hatchback   \n",
       "\n",
       "   EngineCapacity  Cylinders  Mileage   Price  \n",
       "2            2000          4     8472  108988  \n",
       "3            5500          8   136517   32990  \n",
       "4            1300          4     1035   34990  \n",
       "6            2000          4    67662   62280  \n",
       "7            1600          4   300539    2995  "
      ]
     },
     "execution_count": 77,
     "metadata": {},
     "output_type": "execute_result"
    }
   ],
   "source": [
    "df3.head()"
   ]
  },
  {
   "cell_type": "code",
   "execution_count": 78,
   "id": "0d8baff0",
   "metadata": {},
   "outputs": [
    {
     "data": {
      "text/html": [
       "<div>\n",
       "<style scoped>\n",
       "    .dataframe tbody tr th:only-of-type {\n",
       "        vertical-align: middle;\n",
       "    }\n",
       "\n",
       "    .dataframe tbody tr th {\n",
       "        vertical-align: top;\n",
       "    }\n",
       "\n",
       "    .dataframe thead th {\n",
       "        text-align: right;\n",
       "    }\n",
       "</style>\n",
       "<table border=\"1\" class=\"dataframe\">\n",
       "  <thead>\n",
       "    <tr style=\"text-align: right;\">\n",
       "      <th></th>\n",
       "      <th>Year</th>\n",
       "      <th>EngineCapacity</th>\n",
       "      <th>Cylinders</th>\n",
       "      <th>Mileage</th>\n",
       "      <th>Price</th>\n",
       "      <th>Brand_BMW</th>\n",
       "      <th>Brand_Ford</th>\n",
       "      <th>Brand_GWM</th>\n",
       "      <th>Brand_Holden</th>\n",
       "      <th>Brand_Honda</th>\n",
       "      <th>...</th>\n",
       "      <th>FuelType_Unleaded</th>\n",
       "      <th>BodyType_Convertible</th>\n",
       "      <th>BodyType_Coupe</th>\n",
       "      <th>BodyType_Hatchback</th>\n",
       "      <th>BodyType_Other</th>\n",
       "      <th>BodyType_People Mover</th>\n",
       "      <th>BodyType_SUV</th>\n",
       "      <th>BodyType_Sedan</th>\n",
       "      <th>BodyType_Ute Tray</th>\n",
       "      <th>BodyType_Wagon</th>\n",
       "    </tr>\n",
       "  </thead>\n",
       "  <tbody>\n",
       "    <tr>\n",
       "      <th>2</th>\n",
       "      <td>2022</td>\n",
       "      <td>2000</td>\n",
       "      <td>4</td>\n",
       "      <td>8472</td>\n",
       "      <td>108988</td>\n",
       "      <td>1</td>\n",
       "      <td>0</td>\n",
       "      <td>0</td>\n",
       "      <td>0</td>\n",
       "      <td>0</td>\n",
       "      <td>...</td>\n",
       "      <td>0</td>\n",
       "      <td>0</td>\n",
       "      <td>1</td>\n",
       "      <td>0</td>\n",
       "      <td>0</td>\n",
       "      <td>0</td>\n",
       "      <td>0</td>\n",
       "      <td>0</td>\n",
       "      <td>0</td>\n",
       "      <td>0</td>\n",
       "    </tr>\n",
       "    <tr>\n",
       "      <th>3</th>\n",
       "      <td>2011</td>\n",
       "      <td>5500</td>\n",
       "      <td>8</td>\n",
       "      <td>136517</td>\n",
       "      <td>32990</td>\n",
       "      <td>0</td>\n",
       "      <td>0</td>\n",
       "      <td>0</td>\n",
       "      <td>0</td>\n",
       "      <td>0</td>\n",
       "      <td>...</td>\n",
       "      <td>0</td>\n",
       "      <td>0</td>\n",
       "      <td>1</td>\n",
       "      <td>0</td>\n",
       "      <td>0</td>\n",
       "      <td>0</td>\n",
       "      <td>0</td>\n",
       "      <td>0</td>\n",
       "      <td>0</td>\n",
       "      <td>0</td>\n",
       "    </tr>\n",
       "    <tr>\n",
       "      <th>4</th>\n",
       "      <td>2022</td>\n",
       "      <td>1300</td>\n",
       "      <td>4</td>\n",
       "      <td>1035</td>\n",
       "      <td>34990</td>\n",
       "      <td>0</td>\n",
       "      <td>0</td>\n",
       "      <td>0</td>\n",
       "      <td>0</td>\n",
       "      <td>0</td>\n",
       "      <td>...</td>\n",
       "      <td>1</td>\n",
       "      <td>0</td>\n",
       "      <td>0</td>\n",
       "      <td>0</td>\n",
       "      <td>0</td>\n",
       "      <td>0</td>\n",
       "      <td>1</td>\n",
       "      <td>0</td>\n",
       "      <td>0</td>\n",
       "      <td>0</td>\n",
       "    </tr>\n",
       "    <tr>\n",
       "      <th>6</th>\n",
       "      <td>2017</td>\n",
       "      <td>2000</td>\n",
       "      <td>4</td>\n",
       "      <td>67662</td>\n",
       "      <td>62280</td>\n",
       "      <td>0</td>\n",
       "      <td>0</td>\n",
       "      <td>0</td>\n",
       "      <td>0</td>\n",
       "      <td>0</td>\n",
       "      <td>...</td>\n",
       "      <td>0</td>\n",
       "      <td>0</td>\n",
       "      <td>0</td>\n",
       "      <td>0</td>\n",
       "      <td>0</td>\n",
       "      <td>0</td>\n",
       "      <td>1</td>\n",
       "      <td>0</td>\n",
       "      <td>0</td>\n",
       "      <td>0</td>\n",
       "    </tr>\n",
       "    <tr>\n",
       "      <th>7</th>\n",
       "      <td>2000</td>\n",
       "      <td>1600</td>\n",
       "      <td>4</td>\n",
       "      <td>300539</td>\n",
       "      <td>2995</td>\n",
       "      <td>0</td>\n",
       "      <td>0</td>\n",
       "      <td>0</td>\n",
       "      <td>0</td>\n",
       "      <td>0</td>\n",
       "      <td>...</td>\n",
       "      <td>1</td>\n",
       "      <td>0</td>\n",
       "      <td>0</td>\n",
       "      <td>1</td>\n",
       "      <td>0</td>\n",
       "      <td>0</td>\n",
       "      <td>0</td>\n",
       "      <td>0</td>\n",
       "      <td>0</td>\n",
       "      <td>0</td>\n",
       "    </tr>\n",
       "    <tr>\n",
       "      <th>...</th>\n",
       "      <td>...</td>\n",
       "      <td>...</td>\n",
       "      <td>...</td>\n",
       "      <td>...</td>\n",
       "      <td>...</td>\n",
       "      <td>...</td>\n",
       "      <td>...</td>\n",
       "      <td>...</td>\n",
       "      <td>...</td>\n",
       "      <td>...</td>\n",
       "      <td>...</td>\n",
       "      <td>...</td>\n",
       "      <td>...</td>\n",
       "      <td>...</td>\n",
       "      <td>...</td>\n",
       "      <td>...</td>\n",
       "      <td>...</td>\n",
       "      <td>...</td>\n",
       "      <td>...</td>\n",
       "      <td>...</td>\n",
       "      <td>...</td>\n",
       "    </tr>\n",
       "    <tr>\n",
       "      <th>16724</th>\n",
       "      <td>2009</td>\n",
       "      <td>2500</td>\n",
       "      <td>4</td>\n",
       "      <td>182254</td>\n",
       "      <td>16000</td>\n",
       "      <td>0</td>\n",
       "      <td>0</td>\n",
       "      <td>0</td>\n",
       "      <td>0</td>\n",
       "      <td>0</td>\n",
       "      <td>...</td>\n",
       "      <td>0</td>\n",
       "      <td>0</td>\n",
       "      <td>0</td>\n",
       "      <td>0</td>\n",
       "      <td>0</td>\n",
       "      <td>0</td>\n",
       "      <td>0</td>\n",
       "      <td>0</td>\n",
       "      <td>1</td>\n",
       "      <td>0</td>\n",
       "    </tr>\n",
       "    <tr>\n",
       "      <th>16727</th>\n",
       "      <td>2015</td>\n",
       "      <td>1600</td>\n",
       "      <td>4</td>\n",
       "      <td>54359</td>\n",
       "      <td>21450</td>\n",
       "      <td>0</td>\n",
       "      <td>0</td>\n",
       "      <td>0</td>\n",
       "      <td>0</td>\n",
       "      <td>0</td>\n",
       "      <td>...</td>\n",
       "      <td>1</td>\n",
       "      <td>0</td>\n",
       "      <td>0</td>\n",
       "      <td>0</td>\n",
       "      <td>0</td>\n",
       "      <td>0</td>\n",
       "      <td>0</td>\n",
       "      <td>0</td>\n",
       "      <td>0</td>\n",
       "      <td>1</td>\n",
       "    </tr>\n",
       "    <tr>\n",
       "      <th>16728</th>\n",
       "      <td>2021</td>\n",
       "      <td>2000</td>\n",
       "      <td>4</td>\n",
       "      <td>32977</td>\n",
       "      <td>36770</td>\n",
       "      <td>0</td>\n",
       "      <td>0</td>\n",
       "      <td>0</td>\n",
       "      <td>0</td>\n",
       "      <td>0</td>\n",
       "      <td>...</td>\n",
       "      <td>1</td>\n",
       "      <td>0</td>\n",
       "      <td>0</td>\n",
       "      <td>0</td>\n",
       "      <td>0</td>\n",
       "      <td>0</td>\n",
       "      <td>1</td>\n",
       "      <td>0</td>\n",
       "      <td>0</td>\n",
       "      <td>0</td>\n",
       "    </tr>\n",
       "    <tr>\n",
       "      <th>16732</th>\n",
       "      <td>2016</td>\n",
       "      <td>2000</td>\n",
       "      <td>4</td>\n",
       "      <td>85525</td>\n",
       "      <td>41888</td>\n",
       "      <td>0</td>\n",
       "      <td>0</td>\n",
       "      <td>0</td>\n",
       "      <td>0</td>\n",
       "      <td>0</td>\n",
       "      <td>...</td>\n",
       "      <td>0</td>\n",
       "      <td>0</td>\n",
       "      <td>0</td>\n",
       "      <td>0</td>\n",
       "      <td>0</td>\n",
       "      <td>0</td>\n",
       "      <td>1</td>\n",
       "      <td>0</td>\n",
       "      <td>0</td>\n",
       "      <td>0</td>\n",
       "    </tr>\n",
       "    <tr>\n",
       "      <th>16733</th>\n",
       "      <td>2021</td>\n",
       "      <td>2000</td>\n",
       "      <td>4</td>\n",
       "      <td>31852</td>\n",
       "      <td>65888</td>\n",
       "      <td>0</td>\n",
       "      <td>0</td>\n",
       "      <td>0</td>\n",
       "      <td>0</td>\n",
       "      <td>0</td>\n",
       "      <td>...</td>\n",
       "      <td>1</td>\n",
       "      <td>0</td>\n",
       "      <td>0</td>\n",
       "      <td>0</td>\n",
       "      <td>0</td>\n",
       "      <td>0</td>\n",
       "      <td>0</td>\n",
       "      <td>1</td>\n",
       "      <td>0</td>\n",
       "      <td>0</td>\n",
       "    </tr>\n",
       "  </tbody>\n",
       "</table>\n",
       "<p>12746 rows × 46 columns</p>\n",
       "</div>"
      ],
      "text/plain": [
       "       Year  EngineCapacity  Cylinders  Mileage   Price  Brand_BMW  \\\n",
       "2      2022            2000          4     8472  108988          1   \n",
       "3      2011            5500          8   136517   32990          0   \n",
       "4      2022            1300          4     1035   34990          0   \n",
       "6      2017            2000          4    67662   62280          0   \n",
       "7      2000            1600          4   300539    2995          0   \n",
       "...     ...             ...        ...      ...     ...        ...   \n",
       "16724  2009            2500          4   182254   16000          0   \n",
       "16727  2015            1600          4    54359   21450          0   \n",
       "16728  2021            2000          4    32977   36770          0   \n",
       "16732  2016            2000          4    85525   41888          0   \n",
       "16733  2021            2000          4    31852   65888          0   \n",
       "\n",
       "       Brand_Ford  Brand_GWM  Brand_Holden  Brand_Honda  ...  \\\n",
       "2               0          0             0            0  ...   \n",
       "3               0          0             0            0  ...   \n",
       "4               0          0             0            0  ...   \n",
       "6               0          0             0            0  ...   \n",
       "7               0          0             0            0  ...   \n",
       "...           ...        ...           ...          ...  ...   \n",
       "16724           0          0             0            0  ...   \n",
       "16727           0          0             0            0  ...   \n",
       "16728           0          0             0            0  ...   \n",
       "16732           0          0             0            0  ...   \n",
       "16733           0          0             0            0  ...   \n",
       "\n",
       "       FuelType_Unleaded  BodyType_Convertible  BodyType_Coupe  \\\n",
       "2                      0                     0               1   \n",
       "3                      0                     0               1   \n",
       "4                      1                     0               0   \n",
       "6                      0                     0               0   \n",
       "7                      1                     0               0   \n",
       "...                  ...                   ...             ...   \n",
       "16724                  0                     0               0   \n",
       "16727                  1                     0               0   \n",
       "16728                  1                     0               0   \n",
       "16732                  0                     0               0   \n",
       "16733                  1                     0               0   \n",
       "\n",
       "       BodyType_Hatchback  BodyType_Other  BodyType_People Mover  \\\n",
       "2                       0               0                      0   \n",
       "3                       0               0                      0   \n",
       "4                       0               0                      0   \n",
       "6                       0               0                      0   \n",
       "7                       1               0                      0   \n",
       "...                   ...             ...                    ...   \n",
       "16724                   0               0                      0   \n",
       "16727                   0               0                      0   \n",
       "16728                   0               0                      0   \n",
       "16732                   0               0                      0   \n",
       "16733                   0               0                      0   \n",
       "\n",
       "       BodyType_SUV  BodyType_Sedan  BodyType_Ute Tray  BodyType_Wagon  \n",
       "2                 0               0                  0               0  \n",
       "3                 0               0                  0               0  \n",
       "4                 1               0                  0               0  \n",
       "6                 1               0                  0               0  \n",
       "7                 0               0                  0               0  \n",
       "...             ...             ...                ...             ...  \n",
       "16724             0               0                  1               0  \n",
       "16727             0               0                  0               1  \n",
       "16728             1               0                  0               0  \n",
       "16732             1               0                  0               0  \n",
       "16733             0               1                  0               0  \n",
       "\n",
       "[12746 rows x 46 columns]"
      ]
     },
     "execution_count": 78,
     "metadata": {},
     "output_type": "execute_result"
    }
   ],
   "source": [
    "# Apply one-hot encording for convert categorical features to numerical features\n",
    "\n",
    "cat_features = df3.select_dtypes(include=['object']) # categotical features\n",
    "\n",
    "dummy_features = pd.get_dummies(cat_features, drop_first=True) # (drop_first=True is used to drop one column from dummy variables to avoid multicollinearity issues, that variable can be derived from others)\n",
    "\n",
    "df4 = pd.concat([df3,dummy_features], axis=1).drop(cat_features.columns, axis=1) # combine categotical and numerical features together\n",
    "df4"
   ]
  },
  {
   "cell_type": "markdown",
   "id": "f1166df3",
   "metadata": {},
   "source": [
    "## Model Building & Evaluation"
   ]
  },
  {
   "cell_type": "code",
   "execution_count": 79,
   "id": "0a909e32",
   "metadata": {},
   "outputs": [
    {
     "data": {
      "text/html": [
       "<div>\n",
       "<style scoped>\n",
       "    .dataframe tbody tr th:only-of-type {\n",
       "        vertical-align: middle;\n",
       "    }\n",
       "\n",
       "    .dataframe tbody tr th {\n",
       "        vertical-align: top;\n",
       "    }\n",
       "\n",
       "    .dataframe thead th {\n",
       "        text-align: right;\n",
       "    }\n",
       "</style>\n",
       "<table border=\"1\" class=\"dataframe\">\n",
       "  <thead>\n",
       "    <tr style=\"text-align: right;\">\n",
       "      <th></th>\n",
       "      <th>Year</th>\n",
       "      <th>EngineCapacity</th>\n",
       "      <th>Cylinders</th>\n",
       "      <th>Mileage</th>\n",
       "      <th>Price</th>\n",
       "      <th>Brand_BMW</th>\n",
       "      <th>Brand_Ford</th>\n",
       "      <th>Brand_GWM</th>\n",
       "      <th>Brand_Holden</th>\n",
       "      <th>Brand_Honda</th>\n",
       "      <th>...</th>\n",
       "      <th>FuelType_Unleaded</th>\n",
       "      <th>BodyType_Convertible</th>\n",
       "      <th>BodyType_Coupe</th>\n",
       "      <th>BodyType_Hatchback</th>\n",
       "      <th>BodyType_Other</th>\n",
       "      <th>BodyType_People Mover</th>\n",
       "      <th>BodyType_SUV</th>\n",
       "      <th>BodyType_Sedan</th>\n",
       "      <th>BodyType_Ute Tray</th>\n",
       "      <th>BodyType_Wagon</th>\n",
       "    </tr>\n",
       "  </thead>\n",
       "  <tbody>\n",
       "    <tr>\n",
       "      <th>2</th>\n",
       "      <td>2022</td>\n",
       "      <td>2000</td>\n",
       "      <td>4</td>\n",
       "      <td>8472</td>\n",
       "      <td>108988</td>\n",
       "      <td>1</td>\n",
       "      <td>0</td>\n",
       "      <td>0</td>\n",
       "      <td>0</td>\n",
       "      <td>0</td>\n",
       "      <td>...</td>\n",
       "      <td>0</td>\n",
       "      <td>0</td>\n",
       "      <td>1</td>\n",
       "      <td>0</td>\n",
       "      <td>0</td>\n",
       "      <td>0</td>\n",
       "      <td>0</td>\n",
       "      <td>0</td>\n",
       "      <td>0</td>\n",
       "      <td>0</td>\n",
       "    </tr>\n",
       "    <tr>\n",
       "      <th>3</th>\n",
       "      <td>2011</td>\n",
       "      <td>5500</td>\n",
       "      <td>8</td>\n",
       "      <td>136517</td>\n",
       "      <td>32990</td>\n",
       "      <td>0</td>\n",
       "      <td>0</td>\n",
       "      <td>0</td>\n",
       "      <td>0</td>\n",
       "      <td>0</td>\n",
       "      <td>...</td>\n",
       "      <td>0</td>\n",
       "      <td>0</td>\n",
       "      <td>1</td>\n",
       "      <td>0</td>\n",
       "      <td>0</td>\n",
       "      <td>0</td>\n",
       "      <td>0</td>\n",
       "      <td>0</td>\n",
       "      <td>0</td>\n",
       "      <td>0</td>\n",
       "    </tr>\n",
       "    <tr>\n",
       "      <th>4</th>\n",
       "      <td>2022</td>\n",
       "      <td>1300</td>\n",
       "      <td>4</td>\n",
       "      <td>1035</td>\n",
       "      <td>34990</td>\n",
       "      <td>0</td>\n",
       "      <td>0</td>\n",
       "      <td>0</td>\n",
       "      <td>0</td>\n",
       "      <td>0</td>\n",
       "      <td>...</td>\n",
       "      <td>1</td>\n",
       "      <td>0</td>\n",
       "      <td>0</td>\n",
       "      <td>0</td>\n",
       "      <td>0</td>\n",
       "      <td>0</td>\n",
       "      <td>1</td>\n",
       "      <td>0</td>\n",
       "      <td>0</td>\n",
       "      <td>0</td>\n",
       "    </tr>\n",
       "    <tr>\n",
       "      <th>6</th>\n",
       "      <td>2017</td>\n",
       "      <td>2000</td>\n",
       "      <td>4</td>\n",
       "      <td>67662</td>\n",
       "      <td>62280</td>\n",
       "      <td>0</td>\n",
       "      <td>0</td>\n",
       "      <td>0</td>\n",
       "      <td>0</td>\n",
       "      <td>0</td>\n",
       "      <td>...</td>\n",
       "      <td>0</td>\n",
       "      <td>0</td>\n",
       "      <td>0</td>\n",
       "      <td>0</td>\n",
       "      <td>0</td>\n",
       "      <td>0</td>\n",
       "      <td>1</td>\n",
       "      <td>0</td>\n",
       "      <td>0</td>\n",
       "      <td>0</td>\n",
       "    </tr>\n",
       "    <tr>\n",
       "      <th>7</th>\n",
       "      <td>2000</td>\n",
       "      <td>1600</td>\n",
       "      <td>4</td>\n",
       "      <td>300539</td>\n",
       "      <td>2995</td>\n",
       "      <td>0</td>\n",
       "      <td>0</td>\n",
       "      <td>0</td>\n",
       "      <td>0</td>\n",
       "      <td>0</td>\n",
       "      <td>...</td>\n",
       "      <td>1</td>\n",
       "      <td>0</td>\n",
       "      <td>0</td>\n",
       "      <td>1</td>\n",
       "      <td>0</td>\n",
       "      <td>0</td>\n",
       "      <td>0</td>\n",
       "      <td>0</td>\n",
       "      <td>0</td>\n",
       "      <td>0</td>\n",
       "    </tr>\n",
       "  </tbody>\n",
       "</table>\n",
       "<p>5 rows × 46 columns</p>\n",
       "</div>"
      ],
      "text/plain": [
       "   Year  EngineCapacity  Cylinders  Mileage   Price  Brand_BMW  Brand_Ford  \\\n",
       "2  2022            2000          4     8472  108988          1           0   \n",
       "3  2011            5500          8   136517   32990          0           0   \n",
       "4  2022            1300          4     1035   34990          0           0   \n",
       "6  2017            2000          4    67662   62280          0           0   \n",
       "7  2000            1600          4   300539    2995          0           0   \n",
       "\n",
       "   Brand_GWM  Brand_Holden  Brand_Honda  ...  FuelType_Unleaded  \\\n",
       "2          0             0            0  ...                  0   \n",
       "3          0             0            0  ...                  0   \n",
       "4          0             0            0  ...                  1   \n",
       "6          0             0            0  ...                  0   \n",
       "7          0             0            0  ...                  1   \n",
       "\n",
       "   BodyType_Convertible  BodyType_Coupe  BodyType_Hatchback  BodyType_Other  \\\n",
       "2                     0               1                   0               0   \n",
       "3                     0               1                   0               0   \n",
       "4                     0               0                   0               0   \n",
       "6                     0               0                   0               0   \n",
       "7                     0               0                   1               0   \n",
       "\n",
       "   BodyType_People Mover  BodyType_SUV  BodyType_Sedan  BodyType_Ute Tray  \\\n",
       "2                      0             0               0                  0   \n",
       "3                      0             0               0                  0   \n",
       "4                      0             1               0                  0   \n",
       "6                      0             1               0                  0   \n",
       "7                      0             0               0                  0   \n",
       "\n",
       "   BodyType_Wagon  \n",
       "2               0  \n",
       "3               0  \n",
       "4               0  \n",
       "6               0  \n",
       "7               0  \n",
       "\n",
       "[5 rows x 46 columns]"
      ]
     },
     "execution_count": 79,
     "metadata": {},
     "output_type": "execute_result"
    }
   ],
   "source": [
    "df4.head()"
   ]
  },
  {
   "cell_type": "code",
   "execution_count": 80,
   "id": "84245b0b",
   "metadata": {},
   "outputs": [],
   "source": [
    "# Define independent(x) and dependent(y) variables\n",
    "\n",
    "X = df4.drop('Price', axis=1)\n",
    "y = df4['Price']"
   ]
  },
  {
   "cell_type": "code",
   "execution_count": 81,
   "id": "8160fa6e",
   "metadata": {},
   "outputs": [],
   "source": [
    "X_train, X_test, y_train, y_test = train_test_split(X, y, test_size=0.2, random_state=12)"
   ]
  },
  {
   "cell_type": "markdown",
   "id": "d57afa20",
   "metadata": {},
   "source": [
    "#### Feature Scaling"
   ]
  },
  {
   "cell_type": "code",
   "execution_count": 82,
   "id": "c1db2200",
   "metadata": {},
   "outputs": [],
   "source": [
    "# Apply scaling to numerical features\n",
    "\n",
    "scaler = StandardScaler()\n",
    "\n",
    "X_train[['Year', 'EngineCapacity', 'Cylinders', 'Mileage']] = scaler.fit_transform(X_train[['Year', 'EngineCapacity', 'Cylinders', 'Mileage']])\n",
    "X_test[['Year', 'EngineCapacity', 'Cylinders', 'Mileage']] = scaler.transform(X_test[['Year', 'EngineCapacity', 'Cylinders', 'Mileage']])"
   ]
  },
  {
   "cell_type": "code",
   "execution_count": 83,
   "id": "68d49670",
   "metadata": {},
   "outputs": [
    {
     "data": {
      "text/html": [
       "<div>\n",
       "<style scoped>\n",
       "    .dataframe tbody tr th:only-of-type {\n",
       "        vertical-align: middle;\n",
       "    }\n",
       "\n",
       "    .dataframe tbody tr th {\n",
       "        vertical-align: top;\n",
       "    }\n",
       "\n",
       "    .dataframe thead th {\n",
       "        text-align: right;\n",
       "    }\n",
       "</style>\n",
       "<table border=\"1\" class=\"dataframe\">\n",
       "  <thead>\n",
       "    <tr style=\"text-align: right;\">\n",
       "      <th></th>\n",
       "      <th>Year</th>\n",
       "      <th>EngineCapacity</th>\n",
       "      <th>Cylinders</th>\n",
       "      <th>Mileage</th>\n",
       "      <th>Brand_BMW</th>\n",
       "      <th>Brand_Ford</th>\n",
       "      <th>Brand_GWM</th>\n",
       "      <th>Brand_Holden</th>\n",
       "      <th>Brand_Honda</th>\n",
       "      <th>Brand_Hyundai</th>\n",
       "      <th>...</th>\n",
       "      <th>FuelType_Unleaded</th>\n",
       "      <th>BodyType_Convertible</th>\n",
       "      <th>BodyType_Coupe</th>\n",
       "      <th>BodyType_Hatchback</th>\n",
       "      <th>BodyType_Other</th>\n",
       "      <th>BodyType_People Mover</th>\n",
       "      <th>BodyType_SUV</th>\n",
       "      <th>BodyType_Sedan</th>\n",
       "      <th>BodyType_Ute Tray</th>\n",
       "      <th>BodyType_Wagon</th>\n",
       "    </tr>\n",
       "  </thead>\n",
       "  <tbody>\n",
       "    <tr>\n",
       "      <th>9560</th>\n",
       "      <td>0.496137</td>\n",
       "      <td>0.124997</td>\n",
       "      <td>-0.430754</td>\n",
       "      <td>-1.156896</td>\n",
       "      <td>0</td>\n",
       "      <td>0</td>\n",
       "      <td>0</td>\n",
       "      <td>0</td>\n",
       "      <td>0</td>\n",
       "      <td>0</td>\n",
       "      <td>...</td>\n",
       "      <td>1</td>\n",
       "      <td>0</td>\n",
       "      <td>0</td>\n",
       "      <td>0</td>\n",
       "      <td>0</td>\n",
       "      <td>0</td>\n",
       "      <td>1</td>\n",
       "      <td>0</td>\n",
       "      <td>0</td>\n",
       "      <td>0</td>\n",
       "    </tr>\n",
       "    <tr>\n",
       "      <th>6843</th>\n",
       "      <td>-0.612188</td>\n",
       "      <td>0.993252</td>\n",
       "      <td>0.601921</td>\n",
       "      <td>1.429150</td>\n",
       "      <td>0</td>\n",
       "      <td>0</td>\n",
       "      <td>0</td>\n",
       "      <td>0</td>\n",
       "      <td>0</td>\n",
       "      <td>0</td>\n",
       "      <td>...</td>\n",
       "      <td>0</td>\n",
       "      <td>0</td>\n",
       "      <td>0</td>\n",
       "      <td>0</td>\n",
       "      <td>0</td>\n",
       "      <td>0</td>\n",
       "      <td>0</td>\n",
       "      <td>0</td>\n",
       "      <td>1</td>\n",
       "      <td>0</td>\n",
       "    </tr>\n",
       "    <tr>\n",
       "      <th>420</th>\n",
       "      <td>0.052807</td>\n",
       "      <td>0.993252</td>\n",
       "      <td>0.601921</td>\n",
       "      <td>1.554763</td>\n",
       "      <td>0</td>\n",
       "      <td>1</td>\n",
       "      <td>0</td>\n",
       "      <td>0</td>\n",
       "      <td>0</td>\n",
       "      <td>0</td>\n",
       "      <td>...</td>\n",
       "      <td>0</td>\n",
       "      <td>0</td>\n",
       "      <td>0</td>\n",
       "      <td>0</td>\n",
       "      <td>0</td>\n",
       "      <td>0</td>\n",
       "      <td>0</td>\n",
       "      <td>0</td>\n",
       "      <td>1</td>\n",
       "      <td>0</td>\n",
       "    </tr>\n",
       "    <tr>\n",
       "      <th>16455</th>\n",
       "      <td>-0.168858</td>\n",
       "      <td>0.000961</td>\n",
       "      <td>-0.430754</td>\n",
       "      <td>0.599938</td>\n",
       "      <td>0</td>\n",
       "      <td>0</td>\n",
       "      <td>0</td>\n",
       "      <td>0</td>\n",
       "      <td>0</td>\n",
       "      <td>0</td>\n",
       "      <td>...</td>\n",
       "      <td>0</td>\n",
       "      <td>0</td>\n",
       "      <td>0</td>\n",
       "      <td>0</td>\n",
       "      <td>0</td>\n",
       "      <td>0</td>\n",
       "      <td>1</td>\n",
       "      <td>0</td>\n",
       "      <td>0</td>\n",
       "      <td>0</td>\n",
       "    </tr>\n",
       "    <tr>\n",
       "      <th>16033</th>\n",
       "      <td>0.939467</td>\n",
       "      <td>-0.247112</td>\n",
       "      <td>-0.430754</td>\n",
       "      <td>-0.694460</td>\n",
       "      <td>0</td>\n",
       "      <td>0</td>\n",
       "      <td>0</td>\n",
       "      <td>0</td>\n",
       "      <td>0</td>\n",
       "      <td>0</td>\n",
       "      <td>...</td>\n",
       "      <td>0</td>\n",
       "      <td>0</td>\n",
       "      <td>0</td>\n",
       "      <td>0</td>\n",
       "      <td>0</td>\n",
       "      <td>0</td>\n",
       "      <td>1</td>\n",
       "      <td>0</td>\n",
       "      <td>0</td>\n",
       "      <td>0</td>\n",
       "    </tr>\n",
       "    <tr>\n",
       "      <th>...</th>\n",
       "      <td>...</td>\n",
       "      <td>...</td>\n",
       "      <td>...</td>\n",
       "      <td>...</td>\n",
       "      <td>...</td>\n",
       "      <td>...</td>\n",
       "      <td>...</td>\n",
       "      <td>...</td>\n",
       "      <td>...</td>\n",
       "      <td>...</td>\n",
       "      <td>...</td>\n",
       "      <td>...</td>\n",
       "      <td>...</td>\n",
       "      <td>...</td>\n",
       "      <td>...</td>\n",
       "      <td>...</td>\n",
       "      <td>...</td>\n",
       "      <td>...</td>\n",
       "      <td>...</td>\n",
       "      <td>...</td>\n",
       "      <td>...</td>\n",
       "    </tr>\n",
       "    <tr>\n",
       "      <th>4700</th>\n",
       "      <td>-1.498848</td>\n",
       "      <td>1.489398</td>\n",
       "      <td>1.634597</td>\n",
       "      <td>2.251008</td>\n",
       "      <td>0</td>\n",
       "      <td>0</td>\n",
       "      <td>0</td>\n",
       "      <td>1</td>\n",
       "      <td>0</td>\n",
       "      <td>0</td>\n",
       "      <td>...</td>\n",
       "      <td>1</td>\n",
       "      <td>0</td>\n",
       "      <td>0</td>\n",
       "      <td>0</td>\n",
       "      <td>0</td>\n",
       "      <td>0</td>\n",
       "      <td>0</td>\n",
       "      <td>1</td>\n",
       "      <td>0</td>\n",
       "      <td>0</td>\n",
       "    </tr>\n",
       "    <tr>\n",
       "      <th>9183</th>\n",
       "      <td>-3.050503</td>\n",
       "      <td>0.745179</td>\n",
       "      <td>-0.430754</td>\n",
       "      <td>1.792792</td>\n",
       "      <td>0</td>\n",
       "      <td>0</td>\n",
       "      <td>0</td>\n",
       "      <td>0</td>\n",
       "      <td>0</td>\n",
       "      <td>0</td>\n",
       "      <td>...</td>\n",
       "      <td>0</td>\n",
       "      <td>0</td>\n",
       "      <td>0</td>\n",
       "      <td>0</td>\n",
       "      <td>0</td>\n",
       "      <td>0</td>\n",
       "      <td>1</td>\n",
       "      <td>0</td>\n",
       "      <td>0</td>\n",
       "      <td>0</td>\n",
       "    </tr>\n",
       "    <tr>\n",
       "      <th>4228</th>\n",
       "      <td>0.496137</td>\n",
       "      <td>-1.115366</td>\n",
       "      <td>-0.430754</td>\n",
       "      <td>-0.286408</td>\n",
       "      <td>0</td>\n",
       "      <td>1</td>\n",
       "      <td>0</td>\n",
       "      <td>0</td>\n",
       "      <td>0</td>\n",
       "      <td>0</td>\n",
       "      <td>...</td>\n",
       "      <td>1</td>\n",
       "      <td>0</td>\n",
       "      <td>0</td>\n",
       "      <td>1</td>\n",
       "      <td>0</td>\n",
       "      <td>0</td>\n",
       "      <td>0</td>\n",
       "      <td>0</td>\n",
       "      <td>0</td>\n",
       "      <td>0</td>\n",
       "    </tr>\n",
       "    <tr>\n",
       "      <th>12000</th>\n",
       "      <td>0.717802</td>\n",
       "      <td>-0.247112</td>\n",
       "      <td>-0.430754</td>\n",
       "      <td>-0.622422</td>\n",
       "      <td>0</td>\n",
       "      <td>0</td>\n",
       "      <td>0</td>\n",
       "      <td>0</td>\n",
       "      <td>0</td>\n",
       "      <td>0</td>\n",
       "      <td>...</td>\n",
       "      <td>0</td>\n",
       "      <td>0</td>\n",
       "      <td>0</td>\n",
       "      <td>0</td>\n",
       "      <td>0</td>\n",
       "      <td>0</td>\n",
       "      <td>1</td>\n",
       "      <td>0</td>\n",
       "      <td>0</td>\n",
       "      <td>0</td>\n",
       "    </tr>\n",
       "    <tr>\n",
       "      <th>7231</th>\n",
       "      <td>0.052807</td>\n",
       "      <td>0.124997</td>\n",
       "      <td>-0.430754</td>\n",
       "      <td>-0.412365</td>\n",
       "      <td>0</td>\n",
       "      <td>0</td>\n",
       "      <td>0</td>\n",
       "      <td>0</td>\n",
       "      <td>0</td>\n",
       "      <td>1</td>\n",
       "      <td>...</td>\n",
       "      <td>0</td>\n",
       "      <td>0</td>\n",
       "      <td>0</td>\n",
       "      <td>0</td>\n",
       "      <td>0</td>\n",
       "      <td>0</td>\n",
       "      <td>0</td>\n",
       "      <td>0</td>\n",
       "      <td>0</td>\n",
       "      <td>0</td>\n",
       "    </tr>\n",
       "  </tbody>\n",
       "</table>\n",
       "<p>10196 rows × 45 columns</p>\n",
       "</div>"
      ],
      "text/plain": [
       "           Year  EngineCapacity  Cylinders   Mileage  Brand_BMW  Brand_Ford  \\\n",
       "9560   0.496137        0.124997  -0.430754 -1.156896          0           0   \n",
       "6843  -0.612188        0.993252   0.601921  1.429150          0           0   \n",
       "420    0.052807        0.993252   0.601921  1.554763          0           1   \n",
       "16455 -0.168858        0.000961  -0.430754  0.599938          0           0   \n",
       "16033  0.939467       -0.247112  -0.430754 -0.694460          0           0   \n",
       "...         ...             ...        ...       ...        ...         ...   \n",
       "4700  -1.498848        1.489398   1.634597  2.251008          0           0   \n",
       "9183  -3.050503        0.745179  -0.430754  1.792792          0           0   \n",
       "4228   0.496137       -1.115366  -0.430754 -0.286408          0           1   \n",
       "12000  0.717802       -0.247112  -0.430754 -0.622422          0           0   \n",
       "7231   0.052807        0.124997  -0.430754 -0.412365          0           0   \n",
       "\n",
       "       Brand_GWM  Brand_Holden  Brand_Honda  Brand_Hyundai  ...  \\\n",
       "9560           0             0            0              0  ...   \n",
       "6843           0             0            0              0  ...   \n",
       "420            0             0            0              0  ...   \n",
       "16455          0             0            0              0  ...   \n",
       "16033          0             0            0              0  ...   \n",
       "...          ...           ...          ...            ...  ...   \n",
       "4700           0             1            0              0  ...   \n",
       "9183           0             0            0              0  ...   \n",
       "4228           0             0            0              0  ...   \n",
       "12000          0             0            0              0  ...   \n",
       "7231           0             0            0              1  ...   \n",
       "\n",
       "       FuelType_Unleaded  BodyType_Convertible  BodyType_Coupe  \\\n",
       "9560                   1                     0               0   \n",
       "6843                   0                     0               0   \n",
       "420                    0                     0               0   \n",
       "16455                  0                     0               0   \n",
       "16033                  0                     0               0   \n",
       "...                  ...                   ...             ...   \n",
       "4700                   1                     0               0   \n",
       "9183                   0                     0               0   \n",
       "4228                   1                     0               0   \n",
       "12000                  0                     0               0   \n",
       "7231                   0                     0               0   \n",
       "\n",
       "       BodyType_Hatchback  BodyType_Other  BodyType_People Mover  \\\n",
       "9560                    0               0                      0   \n",
       "6843                    0               0                      0   \n",
       "420                     0               0                      0   \n",
       "16455                   0               0                      0   \n",
       "16033                   0               0                      0   \n",
       "...                   ...             ...                    ...   \n",
       "4700                    0               0                      0   \n",
       "9183                    0               0                      0   \n",
       "4228                    1               0                      0   \n",
       "12000                   0               0                      0   \n",
       "7231                    0               0                      0   \n",
       "\n",
       "       BodyType_SUV  BodyType_Sedan  BodyType_Ute Tray  BodyType_Wagon  \n",
       "9560              1               0                  0               0  \n",
       "6843              0               0                  1               0  \n",
       "420               0               0                  1               0  \n",
       "16455             1               0                  0               0  \n",
       "16033             1               0                  0               0  \n",
       "...             ...             ...                ...             ...  \n",
       "4700              0               1                  0               0  \n",
       "9183              1               0                  0               0  \n",
       "4228              0               0                  0               0  \n",
       "12000             1               0                  0               0  \n",
       "7231              0               0                  0               0  \n",
       "\n",
       "[10196 rows x 45 columns]"
      ]
     },
     "execution_count": 83,
     "metadata": {},
     "output_type": "execute_result"
    }
   ],
   "source": [
    "pd.DataFrame(X_train, columns=X.columns) # X_train data after scaling"
   ]
  },
  {
   "cell_type": "markdown",
   "id": "33a81d74",
   "metadata": {},
   "source": [
    "#### Linear Regression Model"
   ]
  },
  {
   "cell_type": "code",
   "execution_count": 88,
   "id": "1990137a",
   "metadata": {},
   "outputs": [
    {
     "data": {
      "text/plain": [
       "LinearRegression()"
      ]
     },
     "execution_count": 88,
     "metadata": {},
     "output_type": "execute_result"
    }
   ],
   "source": [
    "lr_model = LinearRegression()\n",
    "lr_model.fit(X_train, y_train)"
   ]
  },
  {
   "cell_type": "code",
   "execution_count": 89,
   "id": "f24aea20",
   "metadata": {},
   "outputs": [
    {
     "name": "stdout",
     "output_type": "stream",
     "text": [
      "Mean_Squared_Error:  90568703.92532107\n",
      "mean_Absolute_Error:  6633.6667109627815\n",
      "R2_Score:  0.7511982625314115\n",
      "Accuracy of the Model : 75%\n"
     ]
    }
   ],
   "source": [
    "# Prediction results & score\n",
    "\n",
    "y_pred_lr = lr_model.predict(X_test)\n",
    "\n",
    "print('Mean_Squared_Error: ', mean_squared_error(y_test, y_pred_lr))\n",
    "print('mean_Absolute_Error: ', mean_absolute_error(y_test, y_pred_lr))\n",
    "print('R2_Score: ', r2_score(y_test, y_pred_lr))\n",
    "print('Accuracy of the Model : 75%')"
   ]
  },
  {
   "cell_type": "markdown",
   "id": "7fd98245",
   "metadata": {},
   "source": [
    "#### Random Forest Regression Model"
   ]
  },
  {
   "cell_type": "code",
   "execution_count": 101,
   "id": "30b4630e",
   "metadata": {},
   "outputs": [
    {
     "data": {
      "text/plain": [
       "RandomForestRegressor()"
      ]
     },
     "execution_count": 101,
     "metadata": {},
     "output_type": "execute_result"
    }
   ],
   "source": [
    "rfr_model = RandomForestRegressor()\n",
    "rfr_model.fit(X_train,y_train)"
   ]
  },
  {
   "cell_type": "code",
   "execution_count": 102,
   "id": "e066a540",
   "metadata": {},
   "outputs": [
    {
     "name": "stdout",
     "output_type": "stream",
     "text": [
      "Mean_Squared_Error:  36820358.810988024\n",
      "mean_Absolute_Error:  3936.2469087581703\n",
      "R2_Score:  0.8988506089924352\n",
      "Accuracy of the Model : 90%\n"
     ]
    }
   ],
   "source": [
    "y_pred_rfr = rfr_model.predict(X_test)\n",
    "\n",
    "print('Mean_Squared_Error: ', mean_squared_error(y_test, y_pred_rfr))\n",
    "print('mean_Absolute_Error: ', mean_absolute_error(y_test, y_pred_rfr))\n",
    "print('R2_Score: ', r2_score(y_test, y_pred_rfr))\n",
    "print('Accuracy of the Model : 90%')"
   ]
  },
  {
   "cell_type": "code",
   "execution_count": null,
   "id": "a6846e34",
   "metadata": {},
   "outputs": [],
   "source": []
  },
  {
   "cell_type": "code",
   "execution_count": null,
   "id": "b73495bf",
   "metadata": {},
   "outputs": [],
   "source": []
  },
  {
   "cell_type": "code",
   "execution_count": null,
   "id": "39639a4f",
   "metadata": {},
   "outputs": [],
   "source": []
  },
  {
   "cell_type": "code",
   "execution_count": null,
   "id": "3955c8c8",
   "metadata": {},
   "outputs": [],
   "source": []
  },
  {
   "cell_type": "code",
   "execution_count": null,
   "id": "0d195883",
   "metadata": {},
   "outputs": [],
   "source": []
  },
  {
   "cell_type": "code",
   "execution_count": null,
   "id": "7f26d453",
   "metadata": {},
   "outputs": [],
   "source": []
  },
  {
   "cell_type": "code",
   "execution_count": null,
   "id": "5d488bf8",
   "metadata": {},
   "outputs": [],
   "source": []
  },
  {
   "cell_type": "code",
   "execution_count": null,
   "id": "8883e602",
   "metadata": {},
   "outputs": [],
   "source": []
  },
  {
   "cell_type": "code",
   "execution_count": null,
   "id": "49c98b54",
   "metadata": {},
   "outputs": [],
   "source": []
  },
  {
   "cell_type": "code",
   "execution_count": null,
   "id": "fceabc9a",
   "metadata": {},
   "outputs": [],
   "source": []
  },
  {
   "cell_type": "code",
   "execution_count": null,
   "id": "a501f543",
   "metadata": {},
   "outputs": [],
   "source": []
  },
  {
   "cell_type": "code",
   "execution_count": null,
   "id": "dd26b03b",
   "metadata": {},
   "outputs": [],
   "source": []
  }
 ],
 "metadata": {
  "kernelspec": {
   "display_name": "Python 3 (ipykernel)",
   "language": "python",
   "name": "python3"
  },
  "language_info": {
   "codemirror_mode": {
    "name": "ipython",
    "version": 3
   },
   "file_extension": ".py",
   "mimetype": "text/x-python",
   "name": "python",
   "nbconvert_exporter": "python",
   "pygments_lexer": "ipython3",
   "version": "3.9.12"
  }
 },
 "nbformat": 4,
 "nbformat_minor": 5
}
