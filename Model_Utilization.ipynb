{
 "cells": [
  {
   "cell_type": "code",
   "execution_count": 39,
   "id": "525487cb",
   "metadata": {},
   "outputs": [],
   "source": [
    "import numpy as np\n",
    "import joblib\n",
    "import json"
   ]
  },
  {
   "cell_type": "code",
   "execution_count": 40,
   "id": "5da68027",
   "metadata": {},
   "outputs": [],
   "source": [
    "model = joblib.load('rfr_model') # load the model\n",
    "scaler = joblib.load('scaler')   # load scaler"
   ]
  },
  {
   "cell_type": "code",
   "execution_count": 41,
   "id": "5f061ff5",
   "metadata": {},
   "outputs": [
    {
     "data": {
      "text/plain": [
       "array(['year', 'enginecapacity', 'cylinders', 'mileage', 'brand_bmw',\n",
       "       'brand_ford', 'brand_gwm', 'brand_holden', 'brand_honda',\n",
       "       'brand_hyundai', 'brand_isuzu', 'brand_jeep', 'brand_kia',\n",
       "       'brand_ldv', 'brand_land', 'brand_lexus', 'brand_mg',\n",
       "       'brand_mazda', 'brand_mercedes-benz', 'brand_mitsubishi',\n",
       "       'brand_nissan', 'brand_renault', 'brand_skoda', 'brand_subaru',\n",
       "       'brand_suzuki', 'brand_toyota', 'brand_volkswagen', 'brand_volvo',\n",
       "       'transmission_manual', 'drivetype_awd', 'drivetype_front',\n",
       "       'drivetype_rear', 'fueltype_hybrid', 'fueltype_lpg',\n",
       "       'fueltype_premium', 'fueltype_unleaded', 'bodytype_convertible',\n",
       "       'bodytype_coupe', 'bodytype_hatchback', 'bodytype_other',\n",
       "       'bodytype_people mover', 'bodytype_suv', 'bodytype_sedan',\n",
       "       'bodytype_ute tray', 'bodytype_wagon'], dtype='<U21')"
      ]
     },
     "execution_count": 41,
     "metadata": {},
     "output_type": "execute_result"
    }
   ],
   "source": [
    "# load json file\n",
    "\n",
    "with open('columns.json', 'r') as f:\n",
    "    columns = json.load(f)\n",
    "    \n",
    "column_list = np.array(columns['data_columns']) # get columns to an array\n",
    "column_list"
   ]
  },
  {
   "cell_type": "code",
   "execution_count": 42,
   "id": "e5a5342b",
   "metadata": {},
   "outputs": [],
   "source": [
    "def predict (year, engineCapacity, cylinders, mileage, brand, transmission, drivetype, fueltype, bodytype):\n",
    "    loc_index = np.where(np.isin(column_list, ['brand_'+brand, 'transmission_'+transmission, 'drivetype_'+drivetype, 'fueltype_'+fueltype, 'bodytype_'+bodytype]))[0]\n",
    "    \n",
    "    parameter_list = np.zeros(len(column_list))\n",
    "    parameter_list[:4] = scaler.transform([[year, engineCapacity, cylinders, mileage]])\n",
    "    for x in loc_index :\n",
    "        parameter_list[x] = 1\n",
    "    \n",
    "    print('Price: AUD', int(model.predict([parameter_list])[0]))"
   ]
  },
  {
   "cell_type": "code",
   "execution_count": 43,
   "id": "793847a1",
   "metadata": {},
   "outputs": [
    {
     "name": "stdout",
     "output_type": "stream",
     "text": [
      "Price: AUD 94360\n"
     ]
    },
    {
     "name": "stderr",
     "output_type": "stream",
     "text": [
      "C:\\Users\\DULZZ\\anaconda3\\lib\\site-packages\\sklearn\\base.py:464: UserWarning: X does not have valid feature names, but StandardScaler was fitted with feature names\n",
      "  warnings.warn(\n",
      "C:\\Users\\DULZZ\\anaconda3\\lib\\site-packages\\sklearn\\base.py:464: UserWarning: X does not have valid feature names, but RandomForestRegressor was fitted with feature names\n",
      "  warnings.warn(\n"
     ]
    }
   ],
   "source": [
    "predict(2022, 2000, 4, 8472, 'bmw', 'automatic', 'rear', 'premium', 'coupe')"
   ]
  }
 ],
 "metadata": {
  "kernelspec": {
   "display_name": "Python 3 (ipykernel)",
   "language": "python",
   "name": "python3"
  },
  "language_info": {
   "codemirror_mode": {
    "name": "ipython",
    "version": 3
   },
   "file_extension": ".py",
   "mimetype": "text/x-python",
   "name": "python",
   "nbconvert_exporter": "python",
   "pygments_lexer": "ipython3",
   "version": "3.9.18"
  }
 },
 "nbformat": 4,
 "nbformat_minor": 5
}
